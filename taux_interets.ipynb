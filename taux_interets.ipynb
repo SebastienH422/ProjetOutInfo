{
 "cells": [
  {
   "cell_type": "code",
   "execution_count": 23,
   "id": "61256e72-45fb-4efc-bfb4-91dd8864903f",
   "metadata": {},
   "outputs": [
    {
     "name": "stdout",
     "output_type": "stream",
     "text": [
      "  Country or Area                           Item  Year Value\n",
      "0           Aruba  Taux d’intérêt des dépôts (%)  1960  None\n",
      "1           Aruba  Taux d’intérêt des dépôts (%)  1961  None\n",
      "2           Aruba  Taux d’intérêt des dépôts (%)  1962  None\n",
      "3           Aruba  Taux d’intérêt des dépôts (%)  1963  None\n",
      "4           Aruba  Taux d’intérêt des dépôts (%)  1964  None\n"
     ]
    }
   ],
   "source": [
    "import requests\n",
    "import xml.etree.ElementTree as ET\n",
    "import pandas as pd\n",
    "\n",
    "# Téléchargez le fichier XML depuis l'URL\n",
    "url = 'https://julie-sclaunich.emi.u-bordeaux.fr/DATA/API_FR.INR.DPST_DS2_fr_xml_v2_52919.xml'\n",
    "response = requests.get(url)\n",
    "\n",
    "# Vérifiez si le fichier a été téléchargé correctement\n",
    "if response.status_code == 200:\n",
    "    # Sauvegarder le fichier localement\n",
    "    xml_file = 'API_FR.INR.DPST_DS2_fr_xml_v2_52919.xml'\n",
    "    with open(xml_file, 'wb') as file:\n",
    "        file.write(response.content)\n",
    "\n",
    "    # Lire et parser le fichier XML localement\n",
    "    tree = ET.parse(xml_file)\n",
    "    root = tree.getroot()\n",
    "\n",
    "    # Extraire les données\n",
    "    data = []\n",
    "    for record in root.findall('.//record'):\n",
    "        row = {}\n",
    "        for field in record.findall('field'):\n",
    "            name = field.attrib.get('name', '')  # Nom du champ\n",
    "            value = field.text  # Valeur du champ\n",
    "            row[name] = value\n",
    "        data.append(row)\n",
    "\n",
    "    # Convertir en DataFrame\n",
    "    df = pd.DataFrame(data)\n",
    "    print(df.head())  # Affiche les premières lignes\n",
    "else:\n",
    "    print(f\"Erreur de téléchargement : {response.status_code}\")\n"
   ]
  },
  {
   "cell_type": "code",
   "execution_count": 24,
   "id": "b8232c2e-792d-43e4-9305-0ef70748f761",
   "metadata": {},
   "outputs": [
    {
     "data": {
      "text/html": [
       "<div>\n",
       "<style scoped>\n",
       "    .dataframe tbody tr th:only-of-type {\n",
       "        vertical-align: middle;\n",
       "    }\n",
       "\n",
       "    .dataframe tbody tr th {\n",
       "        vertical-align: top;\n",
       "    }\n",
       "\n",
       "    .dataframe thead th {\n",
       "        text-align: right;\n",
       "    }\n",
       "</style>\n",
       "<table border=\"1\" class=\"dataframe\">\n",
       "  <thead>\n",
       "    <tr style=\"text-align: right;\">\n",
       "      <th></th>\n",
       "      <th>Country or Area</th>\n",
       "      <th>Year</th>\n",
       "      <th>Value</th>\n",
       "    </tr>\n",
       "  </thead>\n",
       "  <tbody>\n",
       "    <tr>\n",
       "      <th>0</th>\n",
       "      <td>Aruba</td>\n",
       "      <td>1960</td>\n",
       "      <td>None</td>\n",
       "    </tr>\n",
       "    <tr>\n",
       "      <th>1</th>\n",
       "      <td>Aruba</td>\n",
       "      <td>1961</td>\n",
       "      <td>None</td>\n",
       "    </tr>\n",
       "    <tr>\n",
       "      <th>2</th>\n",
       "      <td>Aruba</td>\n",
       "      <td>1962</td>\n",
       "      <td>None</td>\n",
       "    </tr>\n",
       "    <tr>\n",
       "      <th>3</th>\n",
       "      <td>Aruba</td>\n",
       "      <td>1963</td>\n",
       "      <td>None</td>\n",
       "    </tr>\n",
       "    <tr>\n",
       "      <th>4</th>\n",
       "      <td>Aruba</td>\n",
       "      <td>1964</td>\n",
       "      <td>None</td>\n",
       "    </tr>\n",
       "    <tr>\n",
       "      <th>...</th>\n",
       "      <td>...</td>\n",
       "      <td>...</td>\n",
       "      <td>...</td>\n",
       "    </tr>\n",
       "    <tr>\n",
       "      <th>17019</th>\n",
       "      <td>Zimbabwe</td>\n",
       "      <td>2019</td>\n",
       "      <td>2.975</td>\n",
       "    </tr>\n",
       "    <tr>\n",
       "      <th>17020</th>\n",
       "      <td>Zimbabwe</td>\n",
       "      <td>2020</td>\n",
       "      <td>4.51833333333333</td>\n",
       "    </tr>\n",
       "    <tr>\n",
       "      <th>17021</th>\n",
       "      <td>Zimbabwe</td>\n",
       "      <td>2021</td>\n",
       "      <td>8.05916666666667</td>\n",
       "    </tr>\n",
       "    <tr>\n",
       "      <th>17022</th>\n",
       "      <td>Zimbabwe</td>\n",
       "      <td>2022</td>\n",
       "      <td>34.72</td>\n",
       "    </tr>\n",
       "    <tr>\n",
       "      <th>17023</th>\n",
       "      <td>Zimbabwe</td>\n",
       "      <td>2023</td>\n",
       "      <td>62.8208333333333</td>\n",
       "    </tr>\n",
       "  </tbody>\n",
       "</table>\n",
       "<p>17024 rows × 3 columns</p>\n",
       "</div>"
      ],
      "text/plain": [
       "      Country or Area  Year             Value\n",
       "0               Aruba  1960              None\n",
       "1               Aruba  1961              None\n",
       "2               Aruba  1962              None\n",
       "3               Aruba  1963              None\n",
       "4               Aruba  1964              None\n",
       "...               ...   ...               ...\n",
       "17019        Zimbabwe  2019             2.975\n",
       "17020        Zimbabwe  2020  4.51833333333333\n",
       "17021        Zimbabwe  2021  8.05916666666667\n",
       "17022        Zimbabwe  2022             34.72\n",
       "17023        Zimbabwe  2023  62.8208333333333\n",
       "\n",
       "[17024 rows x 3 columns]"
      ]
     },
     "execution_count": 24,
     "metadata": {},
     "output_type": "execute_result"
    }
   ],
   "source": [
    "del df['Item']\n",
    "df"
   ]
  },
  {
   "cell_type": "code",
   "execution_count": 25,
   "id": "25fb4660-fa32-4d69-bdec-bcab648152c8",
   "metadata": {
    "scrolled": true
   },
   "outputs": [
    {
     "data": {
      "text/html": [
       "<div>\n",
       "<style scoped>\n",
       "    .dataframe tbody tr th:only-of-type {\n",
       "        vertical-align: middle;\n",
       "    }\n",
       "\n",
       "    .dataframe tbody tr th {\n",
       "        vertical-align: top;\n",
       "    }\n",
       "\n",
       "    .dataframe thead th {\n",
       "        text-align: right;\n",
       "    }\n",
       "</style>\n",
       "<table border=\"1\" class=\"dataframe\">\n",
       "  <thead>\n",
       "    <tr style=\"text-align: right;\">\n",
       "      <th></th>\n",
       "      <th>Country or Area</th>\n",
       "      <th>Year</th>\n",
       "      <th>Value</th>\n",
       "    </tr>\n",
       "  </thead>\n",
       "  <tbody>\n",
       "    <tr>\n",
       "      <th>53</th>\n",
       "      <td>Aruba</td>\n",
       "      <td>2013</td>\n",
       "      <td>3.2</td>\n",
       "    </tr>\n",
       "    <tr>\n",
       "      <th>54</th>\n",
       "      <td>Aruba</td>\n",
       "      <td>2014</td>\n",
       "      <td>2.3</td>\n",
       "    </tr>\n",
       "    <tr>\n",
       "      <th>55</th>\n",
       "      <td>Aruba</td>\n",
       "      <td>2015</td>\n",
       "      <td>1.9</td>\n",
       "    </tr>\n",
       "    <tr>\n",
       "      <th>56</th>\n",
       "      <td>Aruba</td>\n",
       "      <td>2016</td>\n",
       "      <td>2</td>\n",
       "    </tr>\n",
       "    <tr>\n",
       "      <th>57</th>\n",
       "      <td>Aruba</td>\n",
       "      <td>2017</td>\n",
       "      <td>1.6</td>\n",
       "    </tr>\n",
       "    <tr>\n",
       "      <th>...</th>\n",
       "      <td>...</td>\n",
       "      <td>...</td>\n",
       "      <td>...</td>\n",
       "    </tr>\n",
       "    <tr>\n",
       "      <th>17019</th>\n",
       "      <td>Zimbabwe</td>\n",
       "      <td>2019</td>\n",
       "      <td>2.975</td>\n",
       "    </tr>\n",
       "    <tr>\n",
       "      <th>17020</th>\n",
       "      <td>Zimbabwe</td>\n",
       "      <td>2020</td>\n",
       "      <td>4.51833333333333</td>\n",
       "    </tr>\n",
       "    <tr>\n",
       "      <th>17021</th>\n",
       "      <td>Zimbabwe</td>\n",
       "      <td>2021</td>\n",
       "      <td>8.05916666666667</td>\n",
       "    </tr>\n",
       "    <tr>\n",
       "      <th>17022</th>\n",
       "      <td>Zimbabwe</td>\n",
       "      <td>2022</td>\n",
       "      <td>34.72</td>\n",
       "    </tr>\n",
       "    <tr>\n",
       "      <th>17023</th>\n",
       "      <td>Zimbabwe</td>\n",
       "      <td>2023</td>\n",
       "      <td>62.8208333333333</td>\n",
       "    </tr>\n",
       "  </tbody>\n",
       "</table>\n",
       "<p>2926 rows × 3 columns</p>\n",
       "</div>"
      ],
      "text/plain": [
       "      Country or Area  Year             Value\n",
       "53              Aruba  2013               3.2\n",
       "54              Aruba  2014               2.3\n",
       "55              Aruba  2015               1.9\n",
       "56              Aruba  2016                 2\n",
       "57              Aruba  2017               1.6\n",
       "...               ...   ...               ...\n",
       "17019        Zimbabwe  2019             2.975\n",
       "17020        Zimbabwe  2020  4.51833333333333\n",
       "17021        Zimbabwe  2021  8.05916666666667\n",
       "17022        Zimbabwe  2022             34.72\n",
       "17023        Zimbabwe  2023  62.8208333333333\n",
       "\n",
       "[2926 rows x 3 columns]"
      ]
     },
     "execution_count": 25,
     "metadata": {},
     "output_type": "execute_result"
    }
   ],
   "source": [
    "#on garde les années entre 2013 et 2023\n",
    "df['Year'] = pd.to_numeric(df['Year'], errors='coerce')\n",
    "df = df[df['Year'] >  2012]\n",
    "df"
   ]
  },
  {
   "cell_type": "code",
   "execution_count": 26,
   "id": "f6c60fa9-2b40-49dd-ab11-c9647d7449c8",
   "metadata": {},
   "outputs": [
    {
     "data": {
      "text/html": [
       "<div>\n",
       "<style scoped>\n",
       "    .dataframe tbody tr th:only-of-type {\n",
       "        vertical-align: middle;\n",
       "    }\n",
       "\n",
       "    .dataframe tbody tr th {\n",
       "        vertical-align: top;\n",
       "    }\n",
       "\n",
       "    .dataframe thead th {\n",
       "        text-align: right;\n",
       "    }\n",
       "</style>\n",
       "<table border=\"1\" class=\"dataframe\">\n",
       "  <thead>\n",
       "    <tr style=\"text-align: right;\">\n",
       "      <th></th>\n",
       "      <th>Country or Area</th>\n",
       "      <th>Year</th>\n",
       "      <th>Value</th>\n",
       "    </tr>\n",
       "  </thead>\n",
       "  <tbody>\n",
       "    <tr>\n",
       "      <th>373</th>\n",
       "      <td>Albanie</td>\n",
       "      <td>2013</td>\n",
       "      <td>4.16420494025281</td>\n",
       "    </tr>\n",
       "    <tr>\n",
       "      <th>374</th>\n",
       "      <td>Albanie</td>\n",
       "      <td>2014</td>\n",
       "      <td>1.91416666666667</td>\n",
       "    </tr>\n",
       "    <tr>\n",
       "      <th>375</th>\n",
       "      <td>Albanie</td>\n",
       "      <td>2015</td>\n",
       "      <td>1.39333333333333</td>\n",
       "    </tr>\n",
       "    <tr>\n",
       "      <th>376</th>\n",
       "      <td>Albanie</td>\n",
       "      <td>2016</td>\n",
       "      <td>0.830833333333333</td>\n",
       "    </tr>\n",
       "    <tr>\n",
       "      <th>377</th>\n",
       "      <td>Albanie</td>\n",
       "      <td>2017</td>\n",
       "      <td>0.766666666666667</td>\n",
       "    </tr>\n",
       "    <tr>\n",
       "      <th>...</th>\n",
       "      <td>...</td>\n",
       "      <td>...</td>\n",
       "      <td>...</td>\n",
       "    </tr>\n",
       "    <tr>\n",
       "      <th>16763</th>\n",
       "      <td>Kosovo</td>\n",
       "      <td>2019</td>\n",
       "      <td>None</td>\n",
       "    </tr>\n",
       "    <tr>\n",
       "      <th>16764</th>\n",
       "      <td>Kosovo</td>\n",
       "      <td>2020</td>\n",
       "      <td>None</td>\n",
       "    </tr>\n",
       "    <tr>\n",
       "      <th>16765</th>\n",
       "      <td>Kosovo</td>\n",
       "      <td>2021</td>\n",
       "      <td>None</td>\n",
       "    </tr>\n",
       "    <tr>\n",
       "      <th>16766</th>\n",
       "      <td>Kosovo</td>\n",
       "      <td>2022</td>\n",
       "      <td>None</td>\n",
       "    </tr>\n",
       "    <tr>\n",
       "      <th>16767</th>\n",
       "      <td>Kosovo</td>\n",
       "      <td>2023</td>\n",
       "      <td>None</td>\n",
       "    </tr>\n",
       "  </tbody>\n",
       "</table>\n",
       "<p>429 rows × 3 columns</p>\n",
       "</div>"
      ],
      "text/plain": [
       "      Country or Area  Year              Value\n",
       "373           Albanie  2013   4.16420494025281\n",
       "374           Albanie  2014   1.91416666666667\n",
       "375           Albanie  2015   1.39333333333333\n",
       "376           Albanie  2016  0.830833333333333\n",
       "377           Albanie  2017  0.766666666666667\n",
       "...               ...   ...                ...\n",
       "16763          Kosovo  2019               None\n",
       "16764          Kosovo  2020               None\n",
       "16765          Kosovo  2021               None\n",
       "16766          Kosovo  2022               None\n",
       "16767          Kosovo  2023               None\n",
       "\n",
       "[429 rows x 3 columns]"
      ]
     },
     "execution_count": 26,
     "metadata": {},
     "output_type": "execute_result"
    }
   ],
   "source": [
    "#on ne garde que les pays européens\n",
    "european_countries = [\n",
    "    \"Albanie\", \"Allemagne\", \"Andorre\", \"Autriche\", \"Belgique\", \"Biélorussie\",\n",
    "    \"Bosnie-Herzégovine\", \"Bulgarie\", \"Croatie\", \"Danemark\", \"Espagne\", \"Estonie\",\n",
    "    \"Finlande\", \"France\", \"Grèce\", \"Hongrie\", \"Irlande\", \"Islande\", \"Italie\",\n",
    "    \"Kosovo\", \"Lettonie\", \"Liechtenstein\", \"Lituanie\", \"Luxembourg\", \"Malte\",\n",
    "    \"Moldavie\", \"Monaco\", \"Monténégro\", \"Norvège\", \"Pays-Bas\", \"Pologne\",\n",
    "    \"Portugal\", \"République tchèque\", \"Roumanie\", \"Royaume-Uni\", \"Russie\",\n",
    "    \"Saint-Marin\", \"Serbie\", \"Slovaquie\", \"Slovénie\", \"Suède\", \"Suisse\",\n",
    "    \"Ukraine\", \"Vatican\"\n",
    "]\n",
    "\n",
    "df = df[df['Country or Area'].isin(european_countries)]\n",
    "\n",
    "df\n"
   ]
  },
  {
   "cell_type": "code",
   "execution_count": 27,
   "id": "ec1065c0-e4d5-4271-9aaf-6d0073ac668d",
   "metadata": {},
   "outputs": [
    {
     "name": "stdout",
     "output_type": "stream",
     "text": [
      "Country or Area      0\n",
      "Year                 0\n",
      "Value              294\n",
      "dtype: int64\n"
     ]
    }
   ],
   "source": [
    "print(df.isnull().sum())"
   ]
  },
  {
   "cell_type": "code",
   "execution_count": 28,
   "id": "768ae6fa-b602-461f-8883-978040890bd8",
   "metadata": {},
   "outputs": [
    {
     "data": {
      "text/plain": [
       "429"
      ]
     },
     "execution_count": 28,
     "metadata": {},
     "output_type": "execute_result"
    }
   ],
   "source": [
    "len(df)"
   ]
  },
  {
   "cell_type": "code",
   "execution_count": 30,
   "id": "9a043cb7-07a9-4dc0-a873-c23770468f0a",
   "metadata": {},
   "outputs": [
    {
     "data": {
      "application/vnd.plotly.v1+json": {
       "config": {
        "plotlyServerURL": "https://plot.ly"
       },
       "data": [
        {
         "colorscale": [
          [
           0,
           "#636efa"
          ],
          [
           1,
           "#636efa"
          ]
         ],
         "geo": "geo",
         "hovertemplate": "Value=4.16420494025281<br>Country or Area=%{location}<extra></extra>",
         "locationmode": "country names",
         "locations": [
          "Albanie"
         ],
         "name": "4.16420494025281",
         "showlegend": true,
         "showscale": false,
         "type": "choropleth",
         "z": [
          1
         ]
        },
        {
         "colorscale": [
          [
           0,
           "#EF553B"
          ],
          [
           1,
           "#EF553B"
          ]
         ],
         "geo": "geo",
         "hovertemplate": "Value=1.91416666666667<br>Country or Area=%{location}<extra></extra>",
         "locationmode": "country names",
         "locations": [
          "Albanie"
         ],
         "name": "1.91416666666667",
         "showlegend": true,
         "showscale": false,
         "type": "choropleth",
         "z": [
          1
         ]
        },
        {
         "colorscale": [
          [
           0,
           "#00cc96"
          ],
          [
           1,
           "#00cc96"
          ]
         ],
         "geo": "geo",
         "hovertemplate": "Value=1.39333333333333<br>Country or Area=%{location}<extra></extra>",
         "locationmode": "country names",
         "locations": [
          "Albanie"
         ],
         "name": "1.39333333333333",
         "showlegend": true,
         "showscale": false,
         "type": "choropleth",
         "z": [
          1
         ]
        },
        {
         "colorscale": [
          [
           0,
           "#ab63fa"
          ],
          [
           1,
           "#ab63fa"
          ]
         ],
         "geo": "geo",
         "hovertemplate": "Value=0.830833333333333<br>Country or Area=%{location}<extra></extra>",
         "locationmode": "country names",
         "locations": [
          "Albanie"
         ],
         "name": "0.830833333333333",
         "showlegend": true,
         "showscale": false,
         "type": "choropleth",
         "z": [
          1
         ]
        },
        {
         "colorscale": [
          [
           0,
           "#FFA15A"
          ],
          [
           1,
           "#FFA15A"
          ]
         ],
         "geo": "geo",
         "hovertemplate": "Value=0.766666666666667<br>Country or Area=%{location}<extra></extra>",
         "locationmode": "country names",
         "locations": [
          "Albanie"
         ],
         "name": "0.766666666666667",
         "showlegend": true,
         "showscale": false,
         "type": "choropleth",
         "z": [
          1
         ]
        },
        {
         "colorscale": [
          [
           0,
           "#19d3f3"
          ],
          [
           1,
           "#19d3f3"
          ]
         ],
         "geo": "geo",
         "hovertemplate": "Value=0.751666666666667<br>Country or Area=%{location}<extra></extra>",
         "locationmode": "country names",
         "locations": [
          "Albanie"
         ],
         "name": "0.751666666666667",
         "showlegend": true,
         "showscale": false,
         "type": "choropleth",
         "z": [
          1
         ]
        },
        {
         "colorscale": [
          [
           0,
           "#FF6692"
          ],
          [
           1,
           "#FF6692"
          ]
         ],
         "geo": "geo",
         "hovertemplate": "Value=0.4925<br>Country or Area=%{location}<extra></extra>",
         "locationmode": "country names",
         "locations": [
          "Albanie"
         ],
         "name": "0.4925",
         "showlegend": true,
         "showscale": false,
         "type": "choropleth",
         "z": [
          1
         ]
        },
        {
         "colorscale": [
          [
           0,
           "#B6E880"
          ],
          [
           1,
           "#B6E880"
          ]
         ],
         "geo": "geo",
         "hovertemplate": "Value=0.415<br>Country or Area=%{location}<extra></extra>",
         "locationmode": "country names",
         "locations": [
          "Albanie"
         ],
         "name": "0.415",
         "showlegend": true,
         "showscale": false,
         "type": "choropleth",
         "z": [
          1
         ]
        },
        {
         "colorscale": [
          [
           0,
           "#FF97FF"
          ],
          [
           1,
           "#FF97FF"
          ]
         ],
         "geo": "geo",
         "hovertemplate": "Value=0.478333333333333<br>Country or Area=%{location}<extra></extra>",
         "locationmode": "country names",
         "locations": [
          "Albanie"
         ],
         "name": "0.478333333333333",
         "showlegend": true,
         "showscale": false,
         "type": "choropleth",
         "z": [
          1
         ]
        },
        {
         "colorscale": [
          [
           0,
           "#FECB52"
          ],
          [
           1,
           "#FECB52"
          ]
         ],
         "geo": "geo",
         "hovertemplate": "Value=0.730833333333333<br>Country or Area=%{location}<extra></extra>",
         "locationmode": "country names",
         "locations": [
          "Albanie",
          "Norvège"
         ],
         "name": "0.730833333333333",
         "showlegend": true,
         "showscale": false,
         "type": "choropleth",
         "z": [
          1,
          1
         ]
        },
        {
         "colorscale": [
          [
           0,
           "#636efa"
          ],
          [
           1,
           "#636efa"
          ]
         ],
         "geo": "geo",
         "hovertemplate": "Value=1.3475<br>Country or Area=%{location}<extra></extra>",
         "locationmode": "country names",
         "locations": [
          "Albanie"
         ],
         "name": "1.3475",
         "showlegend": true,
         "showscale": false,
         "type": "choropleth",
         "z": [
          1
         ]
        },
        {
         "colorscale": [
          [
           0,
           "#00cc96"
          ],
          [
           1,
           "#00cc96"
          ]
         ],
         "geo": "geo",
         "hovertemplate": "Value=2.41330833333333<br>Country or Area=%{location}<extra></extra>",
         "locationmode": "country names",
         "locations": [
          "Bulgarie"
         ],
         "name": "2.41330833333333",
         "showlegend": true,
         "showscale": false,
         "type": "choropleth",
         "z": [
          1
         ]
        },
        {
         "colorscale": [
          [
           0,
           "#ab63fa"
          ],
          [
           1,
           "#ab63fa"
          ]
         ],
         "geo": "geo",
         "hovertemplate": "Value=1.65581666666667<br>Country or Area=%{location}<extra></extra>",
         "locationmode": "country names",
         "locations": [
          "Bulgarie"
         ],
         "name": "1.65581666666667",
         "showlegend": true,
         "showscale": false,
         "type": "choropleth",
         "z": [
          1
         ]
        },
        {
         "colorscale": [
          [
           0,
           "#FFA15A"
          ],
          [
           1,
           "#FFA15A"
          ]
         ],
         "geo": "geo",
         "hovertemplate": "Value=0.613891666666667<br>Country or Area=%{location}<extra></extra>",
         "locationmode": "country names",
         "locations": [
          "Bulgarie"
         ],
         "name": "0.613891666666667",
         "showlegend": true,
         "showscale": false,
         "type": "choropleth",
         "z": [
          1
         ]
        },
        {
         "colorscale": [
          [
           0,
           "#19d3f3"
          ],
          [
           1,
           "#19d3f3"
          ]
         ],
         "geo": "geo",
         "hovertemplate": "Value=0.173383333333333<br>Country or Area=%{location}<extra></extra>",
         "locationmode": "country names",
         "locations": [
          "Bulgarie"
         ],
         "name": "0.173383333333333",
         "showlegend": true,
         "showscale": false,
         "type": "choropleth",
         "z": [
          1
         ]
        },
        {
         "colorscale": [
          [
           0,
           "#FF6692"
          ],
          [
           1,
           "#FF6692"
          ]
         ],
         "geo": "geo",
         "hovertemplate": "Value=0.0463083333333333<br>Country or Area=%{location}<extra></extra>",
         "locationmode": "country names",
         "locations": [
          "Bulgarie"
         ],
         "name": "0.0463083333333333",
         "showlegend": true,
         "showscale": false,
         "type": "choropleth",
         "z": [
          1
         ]
        },
        {
         "colorscale": [
          [
           0,
           "#B6E880"
          ],
          [
           1,
           "#B6E880"
          ]
         ],
         "geo": "geo",
         "hovertemplate": "Value=0.0274583333333333<br>Country or Area=%{location}<extra></extra>",
         "locationmode": "country names",
         "locations": [
          "Bulgarie"
         ],
         "name": "0.0274583333333333",
         "showlegend": true,
         "showscale": false,
         "type": "choropleth",
         "z": [
          1
         ]
        },
        {
         "colorscale": [
          [
           0,
           "#FF97FF"
          ],
          [
           1,
           "#FF97FF"
          ]
         ],
         "geo": "geo",
         "hovertemplate": "Value=0.0249666666666667<br>Country or Area=%{location}<extra></extra>",
         "locationmode": "country names",
         "locations": [
          "Bulgarie"
         ],
         "name": "0.0249666666666667",
         "showlegend": true,
         "showscale": false,
         "type": "choropleth",
         "z": [
          1
         ]
        },
        {
         "colorscale": [
          [
           0,
           "#FECB52"
          ],
          [
           1,
           "#FECB52"
          ]
         ],
         "geo": "geo",
         "hovertemplate": "Value=0.0133083333333333<br>Country or Area=%{location}<extra></extra>",
         "locationmode": "country names",
         "locations": [
          "Bulgarie"
         ],
         "name": "0.0133083333333333",
         "showlegend": true,
         "showscale": false,
         "type": "choropleth",
         "z": [
          1
         ]
        },
        {
         "colorscale": [
          [
           0,
           "#636efa"
          ],
          [
           1,
           "#636efa"
          ]
         ],
         "geo": "geo",
         "hovertemplate": "Value=0.0157666666666667<br>Country or Area=%{location}<extra></extra>",
         "locationmode": "country names",
         "locations": [
          "Bulgarie"
         ],
         "name": "0.0157666666666667",
         "showlegend": true,
         "showscale": false,
         "type": "choropleth",
         "z": [
          1
         ]
        },
        {
         "colorscale": [
          [
           0,
           "#EF553B"
          ],
          [
           1,
           "#EF553B"
          ]
         ],
         "geo": "geo",
         "hovertemplate": "Value=0.0198833333333333<br>Country or Area=%{location}<extra></extra>",
         "locationmode": "country names",
         "locations": [
          "Bulgarie"
         ],
         "name": "0.0198833333333333",
         "showlegend": true,
         "showscale": false,
         "type": "choropleth",
         "z": [
          1
         ]
        },
        {
         "colorscale": [
          [
           0,
           "#00cc96"
          ],
          [
           1,
           "#00cc96"
          ]
         ],
         "geo": "geo",
         "hovertemplate": "Value=0.0974833333333333<br>Country or Area=%{location}<extra></extra>",
         "locationmode": "country names",
         "locations": [
          "Bulgarie"
         ],
         "name": "0.0974833333333333",
         "showlegend": true,
         "showscale": false,
         "type": "choropleth",
         "z": [
          1
         ]
        },
        {
         "colorscale": [
          [
           0,
           "#ab63fa"
          ],
          [
           1,
           "#ab63fa"
          ]
         ],
         "geo": "geo",
         "hovertemplate": "Value=3.00616794970452<br>Country or Area=%{location}<extra></extra>",
         "locationmode": "country names",
         "locations": [
          "Bosnie-Herzégovine"
         ],
         "name": "3.00616794970452",
         "showlegend": true,
         "showscale": false,
         "type": "choropleth",
         "z": [
          1
         ]
        },
        {
         "colorscale": [
          [
           0,
           "#FFA15A"
          ],
          [
           1,
           "#FFA15A"
          ]
         ],
         "geo": "geo",
         "hovertemplate": "Value=2.66178547140807<br>Country or Area=%{location}<extra></extra>",
         "locationmode": "country names",
         "locations": [
          "Bosnie-Herzégovine"
         ],
         "name": "2.66178547140807",
         "showlegend": true,
         "showscale": false,
         "type": "choropleth",
         "z": [
          1
         ]
        },
        {
         "colorscale": [
          [
           0,
           "#19d3f3"
          ],
          [
           1,
           "#19d3f3"
          ]
         ],
         "geo": "geo",
         "hovertemplate": "Value=2.05966351885091<br>Country or Area=%{location}<extra></extra>",
         "locationmode": "country names",
         "locations": [
          "Bosnie-Herzégovine"
         ],
         "name": "2.05966351885091",
         "showlegend": true,
         "showscale": false,
         "type": "choropleth",
         "z": [
          1
         ]
        },
        {
         "colorscale": [
          [
           0,
           "#FF6692"
          ],
          [
           1,
           "#FF6692"
          ]
         ],
         "geo": "geo",
         "hovertemplate": "Value=1.58256550727159<br>Country or Area=%{location}<extra></extra>",
         "locationmode": "country names",
         "locations": [
          "Bosnie-Herzégovine"
         ],
         "name": "1.58256550727159",
         "showlegend": true,
         "showscale": false,
         "type": "choropleth",
         "z": [
          1
         ]
        },
        {
         "colorscale": [
          [
           0,
           "#B6E880"
          ],
          [
           1,
           "#B6E880"
          ]
         ],
         "geo": "geo",
         "hovertemplate": "Value=1.20898957612111<br>Country or Area=%{location}<extra></extra>",
         "locationmode": "country names",
         "locations": [
          "Bosnie-Herzégovine"
         ],
         "name": "1.20898957612111",
         "showlegend": true,
         "showscale": false,
         "type": "choropleth",
         "z": [
          1
         ]
        },
        {
         "colorscale": [
          [
           0,
           "#FF97FF"
          ],
          [
           1,
           "#FF97FF"
          ]
         ],
         "geo": "geo",
         "hovertemplate": "Value=0.981735723071837<br>Country or Area=%{location}<extra></extra>",
         "locationmode": "country names",
         "locations": [
          "Bosnie-Herzégovine"
         ],
         "name": "0.981735723071837",
         "showlegend": true,
         "showscale": false,
         "type": "choropleth",
         "z": [
          1
         ]
        },
        {
         "colorscale": [
          [
           0,
           "#FECB52"
          ],
          [
           1,
           "#FECB52"
          ]
         ],
         "geo": "geo",
         "hovertemplate": "Value=0.912892644638007<br>Country or Area=%{location}<extra></extra>",
         "locationmode": "country names",
         "locations": [
          "Bosnie-Herzégovine"
         ],
         "name": "0.912892644638007",
         "showlegend": true,
         "showscale": false,
         "type": "choropleth",
         "z": [
          1
         ]
        },
        {
         "colorscale": [
          [
           0,
           "#636efa"
          ],
          [
           1,
           "#636efa"
          ]
         ],
         "geo": "geo",
         "hovertemplate": "Value=0.795801580613642<br>Country or Area=%{location}<extra></extra>",
         "locationmode": "country names",
         "locations": [
          "Bosnie-Herzégovine"
         ],
         "name": "0.795801580613642",
         "showlegend": true,
         "showscale": false,
         "type": "choropleth",
         "z": [
          1
         ]
        },
        {
         "colorscale": [
          [
           0,
           "#EF553B"
          ],
          [
           1,
           "#EF553B"
          ]
         ],
         "geo": "geo",
         "hovertemplate": "Value=0.576406843413973<br>Country or Area=%{location}<extra></extra>",
         "locationmode": "country names",
         "locations": [
          "Bosnie-Herzégovine"
         ],
         "name": "0.576406843413973",
         "showlegend": true,
         "showscale": false,
         "type": "choropleth",
         "z": [
          1
         ]
        },
        {
         "colorscale": [
          [
           0,
           "#00cc96"
          ],
          [
           1,
           "#00cc96"
          ]
         ],
         "geo": "geo",
         "hovertemplate": "Value=0.641369832300789<br>Country or Area=%{location}<extra></extra>",
         "locationmode": "country names",
         "locations": [
          "Bosnie-Herzégovine"
         ],
         "name": "0.641369832300789",
         "showlegend": true,
         "showscale": false,
         "type": "choropleth",
         "z": [
          1
         ]
        },
        {
         "colorscale": [
          [
           0,
           "#ab63fa"
          ],
          [
           1,
           "#ab63fa"
          ]
         ],
         "geo": "geo",
         "hovertemplate": "Value=1.17538632636679<br>Country or Area=%{location}<extra></extra>",
         "locationmode": "country names",
         "locations": [
          "Bosnie-Herzégovine"
         ],
         "name": "1.17538632636679",
         "showlegend": true,
         "showscale": false,
         "type": "choropleth",
         "z": [
          1
         ]
        },
        {
         "colorscale": [
          [
           0,
           "#FFA15A"
          ],
          [
           1,
           "#FFA15A"
          ]
         ],
         "geo": "geo",
         "hovertemplate": "Value=0.0333333333333333<br>Country or Area=%{location}<extra></extra>",
         "locationmode": "country names",
         "locations": [
          "Suisse"
         ],
         "name": "0.0333333333333333",
         "showlegend": true,
         "showscale": false,
         "type": "choropleth",
         "z": [
          1
         ]
        },
        {
         "colorscale": [
          [
           0,
           "#19d3f3"
          ],
          [
           1,
           "#19d3f3"
          ]
         ],
         "geo": "geo",
         "hovertemplate": "Value=0.0291666666666667<br>Country or Area=%{location}<extra></extra>",
         "locationmode": "country names",
         "locations": [
          "Suisse"
         ],
         "name": "0.0291666666666667",
         "showlegend": true,
         "showscale": false,
         "type": "choropleth",
         "z": [
          1
         ]
        },
        {
         "colorscale": [
          [
           0,
           "#FF6692"
          ],
          [
           1,
           "#FF6692"
          ]
         ],
         "geo": "geo",
         "hovertemplate": "Value=-0.1425<br>Country or Area=%{location}<extra></extra>",
         "locationmode": "country names",
         "locations": [
          "Suisse"
         ],
         "name": "-0.1425",
         "showlegend": true,
         "showscale": false,
         "type": "choropleth",
         "z": [
          1
         ]
        },
        {
         "colorscale": [
          [
           0,
           "#B6E880"
          ],
          [
           1,
           "#B6E880"
          ]
         ],
         "geo": "geo",
         "hovertemplate": "Value=-0.200833333333333<br>Country or Area=%{location}<extra></extra>",
         "locationmode": "country names",
         "locations": [
          "Suisse"
         ],
         "name": "-0.200833333333333",
         "showlegend": true,
         "showscale": false,
         "type": "choropleth",
         "z": [
          1
         ]
        },
        {
         "colorscale": [
          [
           0,
           "#FF97FF"
          ],
          [
           1,
           "#FF97FF"
          ]
         ],
         "geo": "geo",
         "hovertemplate": "Value=-0.271760460833333<br>Country or Area=%{location}<extra></extra>",
         "locationmode": "country names",
         "locations": [
          "Suisse"
         ],
         "name": "-0.271760460833333",
         "showlegend": true,
         "showscale": false,
         "type": "choropleth",
         "z": [
          1
         ]
        },
        {
         "colorscale": [
          [
           0,
           "#FECB52"
          ],
          [
           1,
           "#FECB52"
          ]
         ],
         "geo": "geo",
         "hovertemplate": "Value=-0.315815475833333<br>Country or Area=%{location}<extra></extra>",
         "locationmode": "country names",
         "locations": [
          "Suisse"
         ],
         "name": "-0.315815475833333",
         "showlegend": true,
         "showscale": false,
         "type": "choropleth",
         "z": [
          1
         ]
        },
        {
         "colorscale": [
          [
           0,
           "#636efa"
          ],
          [
           1,
           "#636efa"
          ]
         ],
         "geo": "geo",
         "hovertemplate": "Value=-0.351080896666667<br>Country or Area=%{location}<extra></extra>",
         "locationmode": "country names",
         "locations": [
          "Suisse"
         ],
         "name": "-0.351080896666667",
         "showlegend": true,
         "showscale": false,
         "type": "choropleth",
         "z": [
          1
         ]
        },
        {
         "colorscale": [
          [
           0,
           "#EF553B"
          ],
          [
           1,
           "#EF553B"
          ]
         ],
         "geo": "geo",
         "hovertemplate": "Value=-0.383657405833333<br>Country or Area=%{location}<extra></extra>",
         "locationmode": "country names",
         "locations": [
          "Suisse"
         ],
         "name": "-0.383657405833333",
         "showlegend": true,
         "showscale": false,
         "type": "choropleth",
         "z": [
          1
         ]
        },
        {
         "colorscale": [
          [
           0,
           "#00cc96"
          ],
          [
           1,
           "#00cc96"
          ]
         ],
         "geo": "geo",
         "hovertemplate": "Value=-0.4185307025<br>Country or Area=%{location}<extra></extra>",
         "locationmode": "country names",
         "locations": [
          "Suisse"
         ],
         "name": "-0.4185307025",
         "showlegend": true,
         "showscale": false,
         "type": "choropleth",
         "z": [
          1
         ]
        },
        {
         "colorscale": [
          [
           0,
           "#ab63fa"
          ],
          [
           1,
           "#ab63fa"
          ]
         ],
         "geo": "geo",
         "hovertemplate": "Value=-0.1522561575<br>Country or Area=%{location}<extra></extra>",
         "locationmode": "country names",
         "locations": [
          "Suisse"
         ],
         "name": "-0.1522561575",
         "showlegend": true,
         "showscale": false,
         "type": "choropleth",
         "z": [
          1
         ]
        },
        {
         "colorscale": [
          [
           0,
           "#FFA15A"
          ],
          [
           1,
           "#FFA15A"
          ]
         ],
         "geo": "geo",
         "hovertemplate": "Value=1.09207704666667<br>Country or Area=%{location}<extra></extra>",
         "locationmode": "country names",
         "locations": [
          "Suisse"
         ],
         "name": "1.09207704666667",
         "showlegend": true,
         "showscale": false,
         "type": "choropleth",
         "z": [
          1
         ]
        },
        {
         "colorscale": [
          [
           0,
           "#19d3f3"
          ],
          [
           1,
           "#19d3f3"
          ]
         ],
         "geo": "geo",
         "hovertemplate": "Value=0.861548172781148<br>Country or Area=%{location}<extra></extra>",
         "locationmode": "country names",
         "locations": [
          "République tchèque"
         ],
         "name": "0.861548172781148",
         "showlegend": true,
         "showscale": false,
         "type": "choropleth",
         "z": [
          1
         ]
        },
        {
         "colorscale": [
          [
           0,
           "#FF6692"
          ],
          [
           1,
           "#FF6692"
          ]
         ],
         "geo": "geo",
         "hovertemplate": "Value=0.701499898080767<br>Country or Area=%{location}<extra></extra>",
         "locationmode": "country names",
         "locations": [
          "République tchèque"
         ],
         "name": "0.701499898080767",
         "showlegend": true,
         "showscale": false,
         "type": "choropleth",
         "z": [
          1
         ]
        },
        {
         "colorscale": [
          [
           0,
           "#B6E880"
          ],
          [
           1,
           "#B6E880"
          ]
         ],
         "geo": "geo",
         "hovertemplate": "Value=0.52933284578413<br>Country or Area=%{location}<extra></extra>",
         "locationmode": "country names",
         "locations": [
          "République tchèque"
         ],
         "name": "0.52933284578413",
         "showlegend": true,
         "showscale": false,
         "type": "choropleth",
         "z": [
          1
         ]
        },
        {
         "colorscale": [
          [
           0,
           "#FF97FF"
          ],
          [
           1,
           "#FF97FF"
          ]
         ],
         "geo": "geo",
         "hovertemplate": "Value=0.373113336623673<br>Country or Area=%{location}<extra></extra>",
         "locationmode": "country names",
         "locations": [
          "République tchèque"
         ],
         "name": "0.373113336623673",
         "showlegend": true,
         "showscale": false,
         "type": "choropleth",
         "z": [
          1
         ]
        },
        {
         "colorscale": [
          [
           0,
           "#FECB52"
          ],
          [
           1,
           "#FECB52"
          ]
         ],
         "geo": "geo",
         "hovertemplate": "Value=0.275124598576577<br>Country or Area=%{location}<extra></extra>",
         "locationmode": "country names",
         "locations": [
          "République tchèque"
         ],
         "name": "0.275124598576577",
         "showlegend": true,
         "showscale": false,
         "type": "choropleth",
         "z": [
          1
         ]
        },
        {
         "colorscale": [
          [
           0,
           "#636efa"
          ],
          [
           1,
           "#636efa"
          ]
         ],
         "geo": "geo",
         "hovertemplate": "Value=0.275896366580548<br>Country or Area=%{location}<extra></extra>",
         "locationmode": "country names",
         "locations": [
          "République tchèque"
         ],
         "name": "0.275896366580548",
         "showlegend": true,
         "showscale": false,
         "type": "choropleth",
         "z": [
          1
         ]
        },
        {
         "colorscale": [
          [
           0,
           "#EF553B"
          ],
          [
           1,
           "#EF553B"
          ]
         ],
         "geo": "geo",
         "hovertemplate": "Value=0.388557809322386<br>Country or Area=%{location}<extra></extra>",
         "locationmode": "country names",
         "locations": [
          "République tchèque"
         ],
         "name": "0.388557809322386",
         "showlegend": true,
         "showscale": false,
         "type": "choropleth",
         "z": [
          1
         ]
        },
        {
         "colorscale": [
          [
           0,
           "#00cc96"
          ],
          [
           1,
           "#00cc96"
          ]
         ],
         "geo": "geo",
         "hovertemplate": "Value=0.303558184400765<br>Country or Area=%{location}<extra></extra>",
         "locationmode": "country names",
         "locations": [
          "République tchèque"
         ],
         "name": "0.303558184400765",
         "showlegend": true,
         "showscale": false,
         "type": "choropleth",
         "z": [
          1
         ]
        },
        {
         "colorscale": [
          [
           0,
           "#ab63fa"
          ],
          [
           1,
           "#ab63fa"
          ]
         ],
         "geo": "geo",
         "hovertemplate": "Value=0.233401665658425<br>Country or Area=%{location}<extra></extra>",
         "locationmode": "country names",
         "locations": [
          "République tchèque"
         ],
         "name": "0.233401665658425",
         "showlegend": true,
         "showscale": false,
         "type": "choropleth",
         "z": [
          1
         ]
        },
        {
         "colorscale": [
          [
           0,
           "#FFA15A"
          ],
          [
           1,
           "#FFA15A"
          ]
         ],
         "geo": "geo",
         "hovertemplate": "Value=1.39768620993967<br>Country or Area=%{location}<extra></extra>",
         "locationmode": "country names",
         "locations": [
          "République tchèque"
         ],
         "name": "1.39768620993967",
         "showlegend": true,
         "showscale": false,
         "type": "choropleth",
         "z": [
          1
         ]
        },
        {
         "colorscale": [
          [
           0,
           "#19d3f3"
          ],
          [
           1,
           "#19d3f3"
          ]
         ],
         "geo": "geo",
         "hovertemplate": "Value=2.41156535744902<br>Country or Area=%{location}<extra></extra>",
         "locationmode": "country names",
         "locations": [
          "République tchèque"
         ],
         "name": "2.41156535744902",
         "showlegend": true,
         "showscale": false,
         "type": "choropleth",
         "z": [
          1
         ]
        },
        {
         "colorscale": [
          [
           0,
           "#FF6692"
          ],
          [
           1,
           "#FF6692"
          ]
         ],
         "geo": "geo",
         "hovertemplate": "Value=1.59666666666667<br>Country or Area=%{location}<extra></extra>",
         "locationmode": "country names",
         "locations": [
          "France"
         ],
         "name": "1.59666666666667",
         "showlegend": true,
         "showscale": false,
         "type": "choropleth",
         "z": [
          1
         ]
        },
        {
         "colorscale": [
          [
           0,
           "#B6E880"
          ],
          [
           1,
           "#B6E880"
          ]
         ],
         "geo": "geo",
         "hovertemplate": "Value=1.14583333333333<br>Country or Area=%{location}<extra></extra>",
         "locationmode": "country names",
         "locations": [
          "France"
         ],
         "name": "1.14583333333333",
         "showlegend": true,
         "showscale": false,
         "type": "choropleth",
         "z": [
          1
         ]
        },
        {
         "colorscale": [
          [
           0,
           "#FF97FF"
          ],
          [
           1,
           "#FF97FF"
          ]
         ],
         "geo": "geo",
         "hovertemplate": "Value=0.895833333333333<br>Country or Area=%{location}<extra></extra>",
         "locationmode": "country names",
         "locations": [
          "France"
         ],
         "name": "0.895833333333333",
         "showlegend": true,
         "showscale": false,
         "type": "choropleth",
         "z": [
          1
         ]
        },
        {
         "colorscale": [
          [
           0,
           "#FECB52"
          ],
          [
           1,
           "#FECB52"
          ]
         ],
         "geo": "geo",
         "hovertemplate": "Value=0.7575<br>Country or Area=%{location}<extra></extra>",
         "locationmode": "country names",
         "locations": [
          "France"
         ],
         "name": "0.7575",
         "showlegend": true,
         "showscale": false,
         "type": "choropleth",
         "z": [
          1
         ]
        },
        {
         "colorscale": [
          [
           0,
           "#636efa"
          ],
          [
           1,
           "#636efa"
          ]
         ],
         "geo": "geo",
         "hovertemplate": "Value=0.791666666666667<br>Country or Area=%{location}<extra></extra>",
         "locationmode": "country names",
         "locations": [
          "France"
         ],
         "name": "0.791666666666667",
         "showlegend": true,
         "showscale": false,
         "type": "choropleth",
         "z": [
          1
         ]
        },
        {
         "colorscale": [
          [
           0,
           "#EF553B"
          ],
          [
           1,
           "#EF553B"
          ]
         ],
         "geo": "geo",
         "hovertemplate": "Value=1.52083333333333<br>Country or Area=%{location}<extra></extra>",
         "locationmode": "country names",
         "locations": [
          "Croatie"
         ],
         "name": "1.52083333333333",
         "showlegend": true,
         "showscale": false,
         "type": "choropleth",
         "z": [
          1
         ]
        },
        {
         "colorscale": [
          [
           0,
           "#00cc96"
          ],
          [
           1,
           "#00cc96"
          ]
         ],
         "geo": "geo",
         "hovertemplate": "Value=1.35333333333333<br>Country or Area=%{location}<extra></extra>",
         "locationmode": "country names",
         "locations": [
          "Croatie"
         ],
         "name": "1.35333333333333",
         "showlegend": true,
         "showscale": false,
         "type": "choropleth",
         "z": [
          1
         ]
        },
        {
         "colorscale": [
          [
           0,
           "#ab63fa"
          ],
          [
           1,
           "#ab63fa"
          ]
         ],
         "geo": "geo",
         "hovertemplate": "Value=3.770748274375<br>Country or Area=%{location}<extra></extra>",
         "locationmode": "country names",
         "locations": [
          "Hongrie"
         ],
         "name": "3.770748274375",
         "showlegend": true,
         "showscale": false,
         "type": "choropleth",
         "z": [
          1
         ]
        },
        {
         "colorscale": [
          [
           0,
           "#FFA15A"
          ],
          [
           1,
           "#FFA15A"
          ]
         ],
         "geo": "geo",
         "hovertemplate": "Value=1.77746258516667<br>Country or Area=%{location}<extra></extra>",
         "locationmode": "country names",
         "locations": [
          "Hongrie"
         ],
         "name": "1.77746258516667",
         "showlegend": true,
         "showscale": false,
         "type": "choropleth",
         "z": [
          1
         ]
        },
        {
         "colorscale": [
          [
           0,
           "#19d3f3"
          ],
          [
           1,
           "#19d3f3"
          ]
         ],
         "geo": "geo",
         "hovertemplate": "Value=1.1125032961<br>Country or Area=%{location}<extra></extra>",
         "locationmode": "country names",
         "locations": [
          "Hongrie"
         ],
         "name": "1.1125032961",
         "showlegend": true,
         "showscale": false,
         "type": "choropleth",
         "z": [
          1
         ]
        },
        {
         "colorscale": [
          [
           0,
           "#FF6692"
          ],
          [
           1,
           "#FF6692"
          ]
         ],
         "geo": "geo",
         "hovertemplate": "Value=0.580953226616667<br>Country or Area=%{location}<extra></extra>",
         "locationmode": "country names",
         "locations": [
          "Hongrie"
         ],
         "name": "0.580953226616667",
         "showlegend": true,
         "showscale": false,
         "type": "choropleth",
         "z": [
          1
         ]
        },
        {
         "colorscale": [
          [
           0,
           "#B6E880"
          ],
          [
           1,
           "#B6E880"
          ]
         ],
         "geo": "geo",
         "hovertemplate": "Value=0.120096355691667<br>Country or Area=%{location}<extra></extra>",
         "locationmode": "country names",
         "locations": [
          "Hongrie"
         ],
         "name": "0.120096355691667",
         "showlegend": true,
         "showscale": false,
         "type": "choropleth",
         "z": [
          1
         ]
        },
        {
         "colorscale": [
          [
           0,
           "#FF97FF"
          ],
          [
           1,
           "#FF97FF"
          ]
         ],
         "geo": "geo",
         "hovertemplate": "Value=0.0643224296<br>Country or Area=%{location}<extra></extra>",
         "locationmode": "country names",
         "locations": [
          "Hongrie"
         ],
         "name": "0.0643224296",
         "showlegend": true,
         "showscale": false,
         "type": "choropleth",
         "z": [
          1
         ]
        },
        {
         "colorscale": [
          [
           0,
           "#FECB52"
          ],
          [
           1,
           "#FECB52"
          ]
         ],
         "geo": "geo",
         "hovertemplate": "Value=0.104764135675<br>Country or Area=%{location}<extra></extra>",
         "locationmode": "country names",
         "locations": [
          "Hongrie"
         ],
         "name": "0.104764135675",
         "showlegend": true,
         "showscale": false,
         "type": "choropleth",
         "z": [
          1
         ]
        },
        {
         "colorscale": [
          [
           0,
           "#636efa"
          ],
          [
           1,
           "#636efa"
          ]
         ],
         "geo": "geo",
         "hovertemplate": "Value=0.467145774525<br>Country or Area=%{location}<extra></extra>",
         "locationmode": "country names",
         "locations": [
          "Hongrie"
         ],
         "name": "0.467145774525",
         "showlegend": true,
         "showscale": false,
         "type": "choropleth",
         "z": [
          1
         ]
        },
        {
         "colorscale": [
          [
           0,
           "#EF553B"
          ],
          [
           1,
           "#EF553B"
          ]
         ],
         "geo": "geo",
         "hovertemplate": "Value=1.0140479751<br>Country or Area=%{location}<extra></extra>",
         "locationmode": "country names",
         "locations": [
          "Hongrie"
         ],
         "name": "1.0140479751",
         "showlegend": true,
         "showscale": false,
         "type": "choropleth",
         "z": [
          1
         ]
        },
        {
         "colorscale": [
          [
           0,
           "#00cc96"
          ],
          [
           1,
           "#00cc96"
          ]
         ],
         "geo": "geo",
         "hovertemplate": "Value=8.36367683543333<br>Country or Area=%{location}<extra></extra>",
         "locationmode": "country names",
         "locations": [
          "Hongrie"
         ],
         "name": "8.36367683543333",
         "showlegend": true,
         "showscale": false,
         "type": "choropleth",
         "z": [
          1
         ]
        },
        {
         "colorscale": [
          [
           0,
           "#ab63fa"
          ],
          [
           1,
           "#ab63fa"
          ]
         ],
         "geo": "geo",
         "hovertemplate": "Value=13.1175665841917<br>Country or Area=%{location}<extra></extra>",
         "locationmode": "country names",
         "locations": [
          "Hongrie"
         ],
         "name": "13.1175665841917",
         "showlegend": true,
         "showscale": false,
         "type": "choropleth",
         "z": [
          1
         ]
        },
        {
         "colorscale": [
          [
           0,
           "#FFA15A"
          ],
          [
           1,
           "#FFA15A"
          ]
         ],
         "geo": "geo",
         "hovertemplate": "Value=2.91170833333333<br>Country or Area=%{location}<extra></extra>",
         "locationmode": "country names",
         "locations": [
          "Monténégro"
         ],
         "name": "2.91170833333333",
         "showlegend": true,
         "showscale": false,
         "type": "choropleth",
         "z": [
          1
         ]
        },
        {
         "colorscale": [
          [
           0,
           "#19d3f3"
          ],
          [
           1,
           "#19d3f3"
          ]
         ],
         "geo": "geo",
         "hovertemplate": "Value=2.13936666666667<br>Country or Area=%{location}<extra></extra>",
         "locationmode": "country names",
         "locations": [
          "Monténégro"
         ],
         "name": "2.13936666666667",
         "showlegend": true,
         "showscale": false,
         "type": "choropleth",
         "z": [
          1
         ]
        },
        {
         "colorscale": [
          [
           0,
           "#FF6692"
          ],
          [
           1,
           "#FF6692"
          ]
         ],
         "geo": "geo",
         "hovertemplate": "Value=1.45808333333333<br>Country or Area=%{location}<extra></extra>",
         "locationmode": "country names",
         "locations": [
          "Monténégro"
         ],
         "name": "1.45808333333333",
         "showlegend": true,
         "showscale": false,
         "type": "choropleth",
         "z": [
          1
         ]
        },
        {
         "colorscale": [
          [
           0,
           "#B6E880"
          ],
          [
           1,
           "#B6E880"
          ]
         ],
         "geo": "geo",
         "hovertemplate": "Value=1.06526666666667<br>Country or Area=%{location}<extra></extra>",
         "locationmode": "country names",
         "locations": [
          "Monténégro"
         ],
         "name": "1.06526666666667",
         "showlegend": true,
         "showscale": false,
         "type": "choropleth",
         "z": [
          1
         ]
        },
        {
         "colorscale": [
          [
           0,
           "#FF97FF"
          ],
          [
           1,
           "#FF97FF"
          ]
         ],
         "geo": "geo",
         "hovertemplate": "Value=0.879166666666667<br>Country or Area=%{location}<extra></extra>",
         "locationmode": "country names",
         "locations": [
          "Monténégro"
         ],
         "name": "0.879166666666667",
         "showlegend": true,
         "showscale": false,
         "type": "choropleth",
         "z": [
          1
         ]
        },
        {
         "colorscale": [
          [
           0,
           "#FECB52"
          ],
          [
           1,
           "#FECB52"
          ]
         ],
         "geo": "geo",
         "hovertemplate": "Value=0.608216666666667<br>Country or Area=%{location}<extra></extra>",
         "locationmode": "country names",
         "locations": [
          "Monténégro"
         ],
         "name": "0.608216666666667",
         "showlegend": true,
         "showscale": false,
         "type": "choropleth",
         "z": [
          1
         ]
        },
        {
         "colorscale": [
          [
           0,
           "#636efa"
          ],
          [
           1,
           "#636efa"
          ]
         ],
         "geo": "geo",
         "hovertemplate": "Value=0.46045<br>Country or Area=%{location}<extra></extra>",
         "locationmode": "country names",
         "locations": [
          "Monténégro"
         ],
         "name": "0.46045",
         "showlegend": true,
         "showscale": false,
         "type": "choropleth",
         "z": [
          1
         ]
        },
        {
         "colorscale": [
          [
           0,
           "#EF553B"
          ],
          [
           1,
           "#EF553B"
          ]
         ],
         "geo": "geo",
         "hovertemplate": "Value=0.40455<br>Country or Area=%{location}<extra></extra>",
         "locationmode": "country names",
         "locations": [
          "Monténégro"
         ],
         "name": "0.40455",
         "showlegend": true,
         "showscale": false,
         "type": "choropleth",
         "z": [
          1
         ]
        },
        {
         "colorscale": [
          [
           0,
           "#00cc96"
          ],
          [
           1,
           "#00cc96"
          ]
         ],
         "geo": "geo",
         "hovertemplate": "Value=0.371358333333333<br>Country or Area=%{location}<extra></extra>",
         "locationmode": "country names",
         "locations": [
          "Monténégro"
         ],
         "name": "0.371358333333333",
         "showlegend": true,
         "showscale": false,
         "type": "choropleth",
         "z": [
          1
         ]
        },
        {
         "colorscale": [
          [
           0,
           "#ab63fa"
          ],
          [
           1,
           "#ab63fa"
          ]
         ],
         "geo": "geo",
         "hovertemplate": "Value=0.288341666666667<br>Country or Area=%{location}<extra></extra>",
         "locationmode": "country names",
         "locations": [
          "Monténégro"
         ],
         "name": "0.288341666666667",
         "showlegend": true,
         "showscale": false,
         "type": "choropleth",
         "z": [
          1
         ]
        },
        {
         "colorscale": [
          [
           0,
           "#FFA15A"
          ],
          [
           1,
           "#FFA15A"
          ]
         ],
         "geo": "geo",
         "hovertemplate": "Value=0.267766666666667<br>Country or Area=%{location}<extra></extra>",
         "locationmode": "country names",
         "locations": [
          "Monténégro"
         ],
         "name": "0.267766666666667",
         "showlegend": true,
         "showscale": false,
         "type": "choropleth",
         "z": [
          1
         ]
        },
        {
         "colorscale": [
          [
           0,
           "#19d3f3"
          ],
          [
           1,
           "#19d3f3"
          ]
         ],
         "geo": "geo",
         "hovertemplate": "Value=2.44<br>Country or Area=%{location}<extra></extra>",
         "locationmode": "country names",
         "locations": [
          "Pays-Bas"
         ],
         "name": "2.44",
         "showlegend": true,
         "showscale": false,
         "type": "choropleth",
         "z": [
          1
         ]
        },
        {
         "colorscale": [
          [
           0,
           "#FF6692"
          ],
          [
           1,
           "#FF6692"
          ]
         ],
         "geo": "geo",
         "hovertemplate": "Value=2.19<br>Country or Area=%{location}<extra></extra>",
         "locationmode": "country names",
         "locations": [
          "Norvège"
         ],
         "name": "2.19",
         "showlegend": true,
         "showscale": false,
         "type": "choropleth",
         "z": [
          1
         ]
        },
        {
         "colorscale": [
          [
           0,
           "#B6E880"
          ],
          [
           1,
           "#B6E880"
          ]
         ],
         "geo": "geo",
         "hovertemplate": "Value=2.07166666666667<br>Country or Area=%{location}<extra></extra>",
         "locationmode": "country names",
         "locations": [
          "Norvège"
         ],
         "name": "2.07166666666667",
         "showlegend": true,
         "showscale": false,
         "type": "choropleth",
         "z": [
          1
         ]
        },
        {
         "colorscale": [
          [
           0,
           "#FF97FF"
          ],
          [
           1,
           "#FF97FF"
          ]
         ],
         "geo": "geo",
         "hovertemplate": "Value=1.31333333333333<br>Country or Area=%{location}<extra></extra>",
         "locationmode": "country names",
         "locations": [
          "Norvège"
         ],
         "name": "1.31333333333333",
         "showlegend": true,
         "showscale": false,
         "type": "choropleth",
         "z": [
          1
         ]
        },
        {
         "colorscale": [
          [
           0,
           "#FECB52"
          ],
          [
           1,
           "#FECB52"
          ]
         ],
         "geo": "geo",
         "hovertemplate": "Value=0.761666666666667<br>Country or Area=%{location}<extra></extra>",
         "locationmode": "country names",
         "locations": [
          "Norvège"
         ],
         "name": "0.761666666666667",
         "showlegend": true,
         "showscale": false,
         "type": "choropleth",
         "z": [
          1
         ]
        },
        {
         "colorscale": [
          [
           0,
           "#636efa"
          ],
          [
           1,
           "#636efa"
          ]
         ],
         "geo": "geo",
         "hovertemplate": "Value=0.723333333333333<br>Country or Area=%{location}<extra></extra>",
         "locationmode": "country names",
         "locations": [
          "Norvège"
         ],
         "name": "0.723333333333333",
         "showlegend": true,
         "showscale": false,
         "type": "choropleth",
         "z": [
          1
         ]
        },
        {
         "colorscale": [
          [
           0,
           "#EF553B"
          ],
          [
           1,
           "#EF553B"
          ]
         ],
         "geo": "geo",
         "hovertemplate": "Value=0.928333333333333<br>Country or Area=%{location}<extra></extra>",
         "locationmode": "country names",
         "locations": [
          "Norvège"
         ],
         "name": "0.928333333333333",
         "showlegend": true,
         "showscale": false,
         "type": "choropleth",
         "z": [
          1
         ]
        },
        {
         "colorscale": [
          [
           0,
           "#00cc96"
          ],
          [
           1,
           "#00cc96"
          ]
         ],
         "geo": "geo",
         "hovertemplate": "Value=0.5975<br>Country or Area=%{location}<extra></extra>",
         "locationmode": "country names",
         "locations": [
          "Norvège"
         ],
         "name": "0.5975",
         "showlegend": true,
         "showscale": false,
         "type": "choropleth",
         "z": [
          1
         ]
        },
        {
         "colorscale": [
          [
           0,
           "#ab63fa"
          ],
          [
           1,
           "#ab63fa"
          ]
         ],
         "geo": "geo",
         "hovertemplate": "Value=0.301666666666667<br>Country or Area=%{location}<extra></extra>",
         "locationmode": "country names",
         "locations": [
          "Norvège"
         ],
         "name": "0.301666666666667",
         "showlegend": true,
         "showscale": false,
         "type": "choropleth",
         "z": [
          1
         ]
        },
        {
         "colorscale": [
          [
           0,
           "#FFA15A"
          ],
          [
           1,
           "#FFA15A"
          ]
         ],
         "geo": "geo",
         "hovertemplate": "Value=0.883333333333333<br>Country or Area=%{location}<extra></extra>",
         "locationmode": "country names",
         "locations": [
          "Norvège"
         ],
         "name": "0.883333333333333",
         "showlegend": true,
         "showscale": false,
         "type": "choropleth",
         "z": [
          1
         ]
        },
        {
         "colorscale": [
          [
           0,
           "#19d3f3"
          ],
          [
           1,
           "#19d3f3"
          ]
         ],
         "geo": "geo",
         "hovertemplate": "Value=2.39416666666667<br>Country or Area=%{location}<extra></extra>",
         "locationmode": "country names",
         "locations": [
          "Norvège"
         ],
         "name": "2.39416666666667",
         "showlegend": true,
         "showscale": false,
         "type": "choropleth",
         "z": [
          1
         ]
        },
        {
         "colorscale": [
          [
           0,
           "#FF6692"
          ],
          [
           1,
           "#FF6692"
          ]
         ],
         "geo": "geo",
         "hovertemplate": "Value=4.55083333333333<br>Country or Area=%{location}<extra></extra>",
         "locationmode": "country names",
         "locations": [
          "Roumanie"
         ],
         "name": "4.55083333333333",
         "showlegend": true,
         "showscale": false,
         "type": "choropleth",
         "z": [
          1
         ]
        },
        {
         "colorscale": [
          [
           0,
           "#B6E880"
          ],
          [
           1,
           "#B6E880"
          ]
         ],
         "geo": "geo",
         "hovertemplate": "Value=3.02<br>Country or Area=%{location}<extra></extra>",
         "locationmode": "country names",
         "locations": [
          "Roumanie"
         ],
         "name": "3.02",
         "showlegend": true,
         "showscale": false,
         "type": "choropleth",
         "z": [
          1
         ]
        },
        {
         "colorscale": [
          [
           0,
           "#FF97FF"
          ],
          [
           1,
           "#FF97FF"
          ]
         ],
         "geo": "geo",
         "hovertemplate": "Value=1.88833333333333<br>Country or Area=%{location}<extra></extra>",
         "locationmode": "country names",
         "locations": [
          "Roumanie"
         ],
         "name": "1.88833333333333",
         "showlegend": true,
         "showscale": false,
         "type": "choropleth",
         "z": [
          1
         ]
        },
        {
         "colorscale": [
          [
           0,
           "#FECB52"
          ],
          [
           1,
           "#FECB52"
          ]
         ],
         "geo": "geo",
         "hovertemplate": "Value=1.11333333333333<br>Country or Area=%{location}<extra></extra>",
         "locationmode": "country names",
         "locations": [
          "Roumanie"
         ],
         "name": "1.11333333333333",
         "showlegend": true,
         "showscale": false,
         "type": "choropleth",
         "z": [
          1
         ]
        },
        {
         "colorscale": [
          [
           0,
           "#636efa"
          ],
          [
           1,
           "#636efa"
          ]
         ],
         "geo": "geo",
         "hovertemplate": "Value=0.887671328915552<br>Country or Area=%{location}<extra></extra>",
         "locationmode": "country names",
         "locations": [
          "Roumanie"
         ],
         "name": "0.887671328915552",
         "showlegend": true,
         "showscale": false,
         "type": "choropleth",
         "z": [
          1
         ]
        },
        {
         "colorscale": [
          [
           0,
           "#EF553B"
          ],
          [
           1,
           "#EF553B"
          ]
         ],
         "geo": "geo",
         "hovertemplate": "Value=1.30452595555615<br>Country or Area=%{location}<extra></extra>",
         "locationmode": "country names",
         "locations": [
          "Roumanie"
         ],
         "name": "1.30452595555615",
         "showlegend": true,
         "showscale": false,
         "type": "choropleth",
         "z": [
          1
         ]
        },
        {
         "colorscale": [
          [
           0,
           "#00cc96"
          ],
          [
           1,
           "#00cc96"
          ]
         ],
         "geo": "geo",
         "hovertemplate": "Value=1.78583333333333<br>Country or Area=%{location}<extra></extra>",
         "locationmode": "country names",
         "locations": [
          "Roumanie"
         ],
         "name": "1.78583333333333",
         "showlegend": true,
         "showscale": false,
         "type": "choropleth",
         "z": [
          1
         ]
        },
        {
         "colorscale": [
          [
           0,
           "#ab63fa"
          ],
          [
           1,
           "#ab63fa"
          ]
         ],
         "geo": "geo",
         "hovertemplate": "Value=1.92807082499468<br>Country or Area=%{location}<extra></extra>",
         "locationmode": "country names",
         "locations": [
          "Roumanie"
         ],
         "name": "1.92807082499468",
         "showlegend": true,
         "showscale": false,
         "type": "choropleth",
         "z": [
          1
         ]
        },
        {
         "colorscale": [
          [
           0,
           "#FFA15A"
          ],
          [
           1,
           "#FFA15A"
          ]
         ],
         "geo": "geo",
         "hovertemplate": "Value=1.58014108714551<br>Country or Area=%{location}<extra></extra>",
         "locationmode": "country names",
         "locations": [
          "Roumanie"
         ],
         "name": "1.58014108714551",
         "showlegend": true,
         "showscale": false,
         "type": "choropleth",
         "z": [
          1
         ]
        },
        {
         "colorscale": [
          [
           0,
           "#19d3f3"
          ],
          [
           1,
           "#19d3f3"
          ]
         ],
         "geo": "geo",
         "hovertemplate": "Value=4.18555929126681<br>Country or Area=%{location}<extra></extra>",
         "locationmode": "country names",
         "locations": [
          "Roumanie"
         ],
         "name": "4.18555929126681",
         "showlegend": true,
         "showscale": false,
         "type": "choropleth",
         "z": [
          1
         ]
        },
        {
         "colorscale": [
          [
           0,
           "#FF6692"
          ],
          [
           1,
           "#FF6692"
          ]
         ],
         "geo": "geo",
         "hovertemplate": "Value=6.43671749602951<br>Country or Area=%{location}<extra></extra>",
         "locationmode": "country names",
         "locations": [
          "Roumanie"
         ],
         "name": "6.43671749602951",
         "showlegend": true,
         "showscale": false,
         "type": "choropleth",
         "z": [
          1
         ]
        },
        {
         "colorscale": [
          [
           0,
           "#B6E880"
          ],
          [
           1,
           "#B6E880"
          ]
         ],
         "geo": "geo",
         "hovertemplate": "Value=1.0725<br>Country or Area=%{location}<extra></extra>",
         "locationmode": "country names",
         "locations": [
          "Saint-Marin"
         ],
         "name": "1.0725",
         "showlegend": true,
         "showscale": false,
         "type": "choropleth",
         "z": [
          1
         ]
        },
        {
         "colorscale": [
          [
           0,
           "#FF97FF"
          ],
          [
           1,
           "#FF97FF"
          ]
         ],
         "geo": "geo",
         "hovertemplate": "Value=1.32392776221434<br>Country or Area=%{location}<extra></extra>",
         "locationmode": "country names",
         "locations": [
          "Saint-Marin"
         ],
         "name": "1.32392776221434",
         "showlegend": true,
         "showscale": false,
         "type": "choropleth",
         "z": [
          1
         ]
        },
        {
         "colorscale": [
          [
           0,
           "#FECB52"
          ],
          [
           1,
           "#FECB52"
          ]
         ],
         "geo": "geo",
         "hovertemplate": "Value=2.43401408036851<br>Country or Area=%{location}<extra></extra>",
         "locationmode": "country names",
         "locations": [
          "Saint-Marin"
         ],
         "name": "2.43401408036851",
         "showlegend": true,
         "showscale": false,
         "type": "choropleth",
         "z": [
          1
         ]
        },
        {
         "colorscale": [
          [
           0,
           "#636efa"
          ],
          [
           1,
           "#636efa"
          ]
         ],
         "geo": "geo",
         "hovertemplate": "Value=1.88483333333333<br>Country or Area=%{location}<extra></extra>",
         "locationmode": "country names",
         "locations": [
          "Saint-Marin"
         ],
         "name": "1.88483333333333",
         "showlegend": true,
         "showscale": false,
         "type": "choropleth",
         "z": [
          1
         ]
        },
        {
         "colorscale": [
          [
           0,
           "#EF553B"
          ],
          [
           1,
           "#EF553B"
          ]
         ],
         "geo": "geo",
         "hovertemplate": "Value=1.06528333333333<br>Country or Area=%{location}<extra></extra>",
         "locationmode": "country names",
         "locations": [
          "Saint-Marin"
         ],
         "name": "1.06528333333333",
         "showlegend": true,
         "showscale": false,
         "type": "choropleth",
         "z": [
          1
         ]
        },
        {
         "colorscale": [
          [
           0,
           "#00cc96"
          ],
          [
           1,
           "#00cc96"
          ]
         ],
         "geo": "geo",
         "hovertemplate": "Value=1.166425<br>Country or Area=%{location}<extra></extra>",
         "locationmode": "country names",
         "locations": [
          "Saint-Marin"
         ],
         "name": "1.166425",
         "showlegend": true,
         "showscale": false,
         "type": "choropleth",
         "z": [
          1
         ]
        },
        {
         "colorscale": [
          [
           0,
           "#ab63fa"
          ],
          [
           1,
           "#ab63fa"
          ]
         ],
         "geo": "geo",
         "hovertemplate": "Value=1.01408333333333<br>Country or Area=%{location}<extra></extra>",
         "locationmode": "country names",
         "locations": [
          "Saint-Marin"
         ],
         "name": "1.01408333333333",
         "showlegend": true,
         "showscale": false,
         "type": "choropleth",
         "z": [
          1
         ]
        },
        {
         "colorscale": [
          [
           0,
           "#FFA15A"
          ],
          [
           1,
           "#FFA15A"
          ]
         ],
         "geo": "geo",
         "hovertemplate": "Value=0.772883333333333<br>Country or Area=%{location}<extra></extra>",
         "locationmode": "country names",
         "locations": [
          "Saint-Marin"
         ],
         "name": "0.772883333333333",
         "showlegend": true,
         "showscale": false,
         "type": "choropleth",
         "z": [
          1
         ]
        },
        {
         "colorscale": [
          [
           0,
           "#19d3f3"
          ],
          [
           1,
           "#19d3f3"
          ]
         ],
         "geo": "geo",
         "hovertemplate": "Value=0.61195<br>Country or Area=%{location}<extra></extra>",
         "locationmode": "country names",
         "locations": [
          "Saint-Marin"
         ],
         "name": "0.61195",
         "showlegend": true,
         "showscale": false,
         "type": "choropleth",
         "z": [
          1
         ]
        },
        {
         "colorscale": [
          [
           0,
           "#FF6692"
          ],
          [
           1,
           "#FF6692"
          ]
         ],
         "geo": "geo",
         "hovertemplate": "Value=0.6216<br>Country or Area=%{location}<extra></extra>",
         "locationmode": "country names",
         "locations": [
          "Saint-Marin"
         ],
         "name": "0.6216",
         "showlegend": true,
         "showscale": false,
         "type": "choropleth",
         "z": [
          1
         ]
        },
        {
         "colorscale": [
          [
           0,
           "#B6E880"
          ],
          [
           1,
           "#B6E880"
          ]
         ],
         "geo": "geo",
         "hovertemplate": "Value=2.00113333333333<br>Country or Area=%{location}<extra></extra>",
         "locationmode": "country names",
         "locations": [
          "Saint-Marin"
         ],
         "name": "2.00113333333333",
         "showlegend": true,
         "showscale": false,
         "type": "choropleth",
         "z": [
          1
         ]
        },
        {
         "colorscale": [
          [
           0,
           "#FF97FF"
          ],
          [
           1,
           "#FF97FF"
          ]
         ],
         "geo": "geo",
         "hovertemplate": "Value=10.77735<br>Country or Area=%{location}<extra></extra>",
         "locationmode": "country names",
         "locations": [
          "Ukraine"
         ],
         "name": "10.77735",
         "showlegend": true,
         "showscale": false,
         "type": "choropleth",
         "z": [
          1
         ]
        },
        {
         "colorscale": [
          [
           0,
           "#FECB52"
          ],
          [
           1,
           "#FECB52"
          ]
         ],
         "geo": "geo",
         "hovertemplate": "Value=12.10025<br>Country or Area=%{location}<extra></extra>",
         "locationmode": "country names",
         "locations": [
          "Ukraine"
         ],
         "name": "12.10025",
         "showlegend": true,
         "showscale": false,
         "type": "choropleth",
         "z": [
          1
         ]
        },
        {
         "colorscale": [
          [
           0,
           "#636efa"
          ],
          [
           1,
           "#636efa"
          ]
         ],
         "geo": "geo",
         "hovertemplate": "Value=13.0104833333333<br>Country or Area=%{location}<extra></extra>",
         "locationmode": "country names",
         "locations": [
          "Ukraine"
         ],
         "name": "13.0104833333333",
         "showlegend": true,
         "showscale": false,
         "type": "choropleth",
         "z": [
          1
         ]
        },
        {
         "colorscale": [
          [
           0,
           "#EF553B"
          ],
          [
           1,
           "#EF553B"
          ]
         ],
         "geo": "geo",
         "hovertemplate": "Value=11.4857583333333<br>Country or Area=%{location}<extra></extra>",
         "locationmode": "country names",
         "locations": [
          "Ukraine"
         ],
         "name": "11.4857583333333",
         "showlegend": true,
         "showscale": false,
         "type": "choropleth",
         "z": [
          1
         ]
        },
        {
         "colorscale": [
          [
           0,
           "#00cc96"
          ],
          [
           1,
           "#00cc96"
          ]
         ],
         "geo": "geo",
         "hovertemplate": "Value=9.12695833333333<br>Country or Area=%{location}<extra></extra>",
         "locationmode": "country names",
         "locations": [
          "Ukraine"
         ],
         "name": "9.12695833333333",
         "showlegend": true,
         "showscale": false,
         "type": "choropleth",
         "z": [
          1
         ]
        },
        {
         "colorscale": [
          [
           0,
           "#ab63fa"
          ],
          [
           1,
           "#ab63fa"
          ]
         ],
         "geo": "geo",
         "hovertemplate": "Value=11.7777583333333<br>Country or Area=%{location}<extra></extra>",
         "locationmode": "country names",
         "locations": [
          "Ukraine"
         ],
         "name": "11.7777583333333",
         "showlegend": true,
         "showscale": false,
         "type": "choropleth",
         "z": [
          1
         ]
        },
        {
         "colorscale": [
          [
           0,
           "#FFA15A"
          ],
          [
           1,
           "#FFA15A"
          ]
         ],
         "geo": "geo",
         "hovertemplate": "Value=12.8923166666667<br>Country or Area=%{location}<extra></extra>",
         "locationmode": "country names",
         "locations": [
          "Ukraine"
         ],
         "name": "12.8923166666667",
         "showlegend": true,
         "showscale": false,
         "type": "choropleth",
         "z": [
          1
         ]
        },
        {
         "colorscale": [
          [
           0,
           "#19d3f3"
          ],
          [
           1,
           "#19d3f3"
          ]
         ],
         "geo": "geo",
         "hovertemplate": "Value=6.08589166666667<br>Country or Area=%{location}<extra></extra>",
         "locationmode": "country names",
         "locations": [
          "Ukraine"
         ],
         "name": "6.08589166666667",
         "showlegend": true,
         "showscale": false,
         "type": "choropleth",
         "z": [
          1
         ]
        },
        {
         "colorscale": [
          [
           0,
           "#FF6692"
          ],
          [
           1,
           "#FF6692"
          ]
         ],
         "geo": "geo",
         "hovertemplate": "Value=4.63494166666667<br>Country or Area=%{location}<extra></extra>",
         "locationmode": "country names",
         "locations": [
          "Ukraine"
         ],
         "name": "4.63494166666667",
         "showlegend": true,
         "showscale": false,
         "type": "choropleth",
         "z": [
          1
         ]
        },
        {
         "colorscale": [
          [
           0,
           "#B6E880"
          ],
          [
           1,
           "#B6E880"
          ]
         ],
         "geo": "geo",
         "hovertemplate": "Value=7.415675<br>Country or Area=%{location}<extra></extra>",
         "locationmode": "country names",
         "locations": [
          "Ukraine"
         ],
         "name": "7.415675",
         "showlegend": true,
         "showscale": false,
         "type": "choropleth",
         "z": [
          1
         ]
        },
        {
         "colorscale": [
          [
           0,
           "#FF97FF"
          ],
          [
           1,
           "#FF97FF"
          ]
         ],
         "geo": "geo",
         "hovertemplate": "Value=12.3407083333333<br>Country or Area=%{location}<extra></extra>",
         "locationmode": "country names",
         "locations": [
          "Ukraine"
         ],
         "name": "12.3407083333333",
         "showlegend": true,
         "showscale": false,
         "type": "choropleth",
         "z": [
          1
         ]
        },
        {
         "colorscale": [
          [
           0,
           "#FECB52"
          ],
          [
           1,
           "#FECB52"
          ]
         ],
         "geo": "geo",
         "hovertemplate": "Value=3.42166666666667<br>Country or Area=%{location}<extra></extra>",
         "locationmode": "country names",
         "locations": [
          "Kosovo"
         ],
         "name": "3.42166666666667",
         "showlegend": true,
         "showscale": false,
         "type": "choropleth",
         "z": [
          1
         ]
        },
        {
         "colorscale": [
          [
           0,
           "#636efa"
          ],
          [
           1,
           "#636efa"
          ]
         ],
         "geo": "geo",
         "hovertemplate": "Value=1.11166666666667<br>Country or Area=%{location}<extra></extra>",
         "locationmode": "country names",
         "locations": [
          "Kosovo"
         ],
         "name": "1.11166666666667",
         "showlegend": true,
         "showscale": false,
         "type": "choropleth",
         "z": [
          1
         ]
        },
        {
         "colorscale": [
          [
           0,
           "#EF553B"
          ],
          [
           1,
           "#EF553B"
          ]
         ],
         "geo": "geo",
         "hovertemplate": "Value=0.904166666666667<br>Country or Area=%{location}<extra></extra>",
         "locationmode": "country names",
         "locations": [
          "Kosovo"
         ],
         "name": "0.904166666666667",
         "showlegend": true,
         "showscale": false,
         "type": "choropleth",
         "z": [
          1
         ]
        },
        {
         "colorscale": [
          [
           0,
           "#00cc96"
          ],
          [
           1,
           "#00cc96"
          ]
         ],
         "geo": "geo",
         "hovertemplate": "Value=1.00905833333333<br>Country or Area=%{location}<extra></extra>",
         "locationmode": "country names",
         "locations": [
          "Kosovo"
         ],
         "name": "1.00905833333333",
         "showlegend": true,
         "showscale": false,
         "type": "choropleth",
         "z": [
          1
         ]
        },
        {
         "colorscale": [
          [
           0,
           "#ab63fa"
          ],
          [
           1,
           "#ab63fa"
          ]
         ],
         "geo": "geo",
         "hovertemplate": "Value=1.035125<br>Country or Area=%{location}<extra></extra>",
         "locationmode": "country names",
         "locations": [
          "Kosovo"
         ],
         "name": "1.035125",
         "showlegend": true,
         "showscale": false,
         "type": "choropleth",
         "z": [
          1
         ]
        },
        {
         "colorscale": [
          [
           0,
           "#FFA15A"
          ],
          [
           1,
           "#FFA15A"
          ]
         ],
         "geo": "geo",
         "hovertemplate": "Value=1.30986666666667<br>Country or Area=%{location}<extra></extra>",
         "locationmode": "country names",
         "locations": [
          "Kosovo"
         ],
         "name": "1.30986666666667",
         "showlegend": true,
         "showscale": false,
         "type": "choropleth",
         "z": [
          1
         ]
        }
       ],
       "layout": {
        "geo": {
         "center": {},
         "domain": {
          "x": [
           0,
           1
          ],
          "y": [
           0,
           1
          ]
         }
        },
        "legend": {
         "title": {
          "text": "Value"
         },
         "tracegroupgap": 0
        },
        "template": {
         "data": {
          "bar": [
           {
            "error_x": {
             "color": "#2a3f5f"
            },
            "error_y": {
             "color": "#2a3f5f"
            },
            "marker": {
             "line": {
              "color": "#E5ECF6",
              "width": 0.5
             },
             "pattern": {
              "fillmode": "overlay",
              "size": 10,
              "solidity": 0.2
             }
            },
            "type": "bar"
           }
          ],
          "barpolar": [
           {
            "marker": {
             "line": {
              "color": "#E5ECF6",
              "width": 0.5
             },
             "pattern": {
              "fillmode": "overlay",
              "size": 10,
              "solidity": 0.2
             }
            },
            "type": "barpolar"
           }
          ],
          "carpet": [
           {
            "aaxis": {
             "endlinecolor": "#2a3f5f",
             "gridcolor": "white",
             "linecolor": "white",
             "minorgridcolor": "white",
             "startlinecolor": "#2a3f5f"
            },
            "baxis": {
             "endlinecolor": "#2a3f5f",
             "gridcolor": "white",
             "linecolor": "white",
             "minorgridcolor": "white",
             "startlinecolor": "#2a3f5f"
            },
            "type": "carpet"
           }
          ],
          "choropleth": [
           {
            "colorbar": {
             "outlinewidth": 0,
             "ticks": ""
            },
            "type": "choropleth"
           }
          ],
          "contour": [
           {
            "colorbar": {
             "outlinewidth": 0,
             "ticks": ""
            },
            "colorscale": [
             [
              0,
              "#0d0887"
             ],
             [
              0.1111111111111111,
              "#46039f"
             ],
             [
              0.2222222222222222,
              "#7201a8"
             ],
             [
              0.3333333333333333,
              "#9c179e"
             ],
             [
              0.4444444444444444,
              "#bd3786"
             ],
             [
              0.5555555555555556,
              "#d8576b"
             ],
             [
              0.6666666666666666,
              "#ed7953"
             ],
             [
              0.7777777777777778,
              "#fb9f3a"
             ],
             [
              0.8888888888888888,
              "#fdca26"
             ],
             [
              1,
              "#f0f921"
             ]
            ],
            "type": "contour"
           }
          ],
          "contourcarpet": [
           {
            "colorbar": {
             "outlinewidth": 0,
             "ticks": ""
            },
            "type": "contourcarpet"
           }
          ],
          "heatmap": [
           {
            "colorbar": {
             "outlinewidth": 0,
             "ticks": ""
            },
            "colorscale": [
             [
              0,
              "#0d0887"
             ],
             [
              0.1111111111111111,
              "#46039f"
             ],
             [
              0.2222222222222222,
              "#7201a8"
             ],
             [
              0.3333333333333333,
              "#9c179e"
             ],
             [
              0.4444444444444444,
              "#bd3786"
             ],
             [
              0.5555555555555556,
              "#d8576b"
             ],
             [
              0.6666666666666666,
              "#ed7953"
             ],
             [
              0.7777777777777778,
              "#fb9f3a"
             ],
             [
              0.8888888888888888,
              "#fdca26"
             ],
             [
              1,
              "#f0f921"
             ]
            ],
            "type": "heatmap"
           }
          ],
          "heatmapgl": [
           {
            "colorbar": {
             "outlinewidth": 0,
             "ticks": ""
            },
            "colorscale": [
             [
              0,
              "#0d0887"
             ],
             [
              0.1111111111111111,
              "#46039f"
             ],
             [
              0.2222222222222222,
              "#7201a8"
             ],
             [
              0.3333333333333333,
              "#9c179e"
             ],
             [
              0.4444444444444444,
              "#bd3786"
             ],
             [
              0.5555555555555556,
              "#d8576b"
             ],
             [
              0.6666666666666666,
              "#ed7953"
             ],
             [
              0.7777777777777778,
              "#fb9f3a"
             ],
             [
              0.8888888888888888,
              "#fdca26"
             ],
             [
              1,
              "#f0f921"
             ]
            ],
            "type": "heatmapgl"
           }
          ],
          "histogram": [
           {
            "marker": {
             "pattern": {
              "fillmode": "overlay",
              "size": 10,
              "solidity": 0.2
             }
            },
            "type": "histogram"
           }
          ],
          "histogram2d": [
           {
            "colorbar": {
             "outlinewidth": 0,
             "ticks": ""
            },
            "colorscale": [
             [
              0,
              "#0d0887"
             ],
             [
              0.1111111111111111,
              "#46039f"
             ],
             [
              0.2222222222222222,
              "#7201a8"
             ],
             [
              0.3333333333333333,
              "#9c179e"
             ],
             [
              0.4444444444444444,
              "#bd3786"
             ],
             [
              0.5555555555555556,
              "#d8576b"
             ],
             [
              0.6666666666666666,
              "#ed7953"
             ],
             [
              0.7777777777777778,
              "#fb9f3a"
             ],
             [
              0.8888888888888888,
              "#fdca26"
             ],
             [
              1,
              "#f0f921"
             ]
            ],
            "type": "histogram2d"
           }
          ],
          "histogram2dcontour": [
           {
            "colorbar": {
             "outlinewidth": 0,
             "ticks": ""
            },
            "colorscale": [
             [
              0,
              "#0d0887"
             ],
             [
              0.1111111111111111,
              "#46039f"
             ],
             [
              0.2222222222222222,
              "#7201a8"
             ],
             [
              0.3333333333333333,
              "#9c179e"
             ],
             [
              0.4444444444444444,
              "#bd3786"
             ],
             [
              0.5555555555555556,
              "#d8576b"
             ],
             [
              0.6666666666666666,
              "#ed7953"
             ],
             [
              0.7777777777777778,
              "#fb9f3a"
             ],
             [
              0.8888888888888888,
              "#fdca26"
             ],
             [
              1,
              "#f0f921"
             ]
            ],
            "type": "histogram2dcontour"
           }
          ],
          "mesh3d": [
           {
            "colorbar": {
             "outlinewidth": 0,
             "ticks": ""
            },
            "type": "mesh3d"
           }
          ],
          "parcoords": [
           {
            "line": {
             "colorbar": {
              "outlinewidth": 0,
              "ticks": ""
             }
            },
            "type": "parcoords"
           }
          ],
          "pie": [
           {
            "automargin": true,
            "type": "pie"
           }
          ],
          "scatter": [
           {
            "fillpattern": {
             "fillmode": "overlay",
             "size": 10,
             "solidity": 0.2
            },
            "type": "scatter"
           }
          ],
          "scatter3d": [
           {
            "line": {
             "colorbar": {
              "outlinewidth": 0,
              "ticks": ""
             }
            },
            "marker": {
             "colorbar": {
              "outlinewidth": 0,
              "ticks": ""
             }
            },
            "type": "scatter3d"
           }
          ],
          "scattercarpet": [
           {
            "marker": {
             "colorbar": {
              "outlinewidth": 0,
              "ticks": ""
             }
            },
            "type": "scattercarpet"
           }
          ],
          "scattergeo": [
           {
            "marker": {
             "colorbar": {
              "outlinewidth": 0,
              "ticks": ""
             }
            },
            "type": "scattergeo"
           }
          ],
          "scattergl": [
           {
            "marker": {
             "colorbar": {
              "outlinewidth": 0,
              "ticks": ""
             }
            },
            "type": "scattergl"
           }
          ],
          "scattermapbox": [
           {
            "marker": {
             "colorbar": {
              "outlinewidth": 0,
              "ticks": ""
             }
            },
            "type": "scattermapbox"
           }
          ],
          "scatterpolar": [
           {
            "marker": {
             "colorbar": {
              "outlinewidth": 0,
              "ticks": ""
             }
            },
            "type": "scatterpolar"
           }
          ],
          "scatterpolargl": [
           {
            "marker": {
             "colorbar": {
              "outlinewidth": 0,
              "ticks": ""
             }
            },
            "type": "scatterpolargl"
           }
          ],
          "scatterternary": [
           {
            "marker": {
             "colorbar": {
              "outlinewidth": 0,
              "ticks": ""
             }
            },
            "type": "scatterternary"
           }
          ],
          "surface": [
           {
            "colorbar": {
             "outlinewidth": 0,
             "ticks": ""
            },
            "colorscale": [
             [
              0,
              "#0d0887"
             ],
             [
              0.1111111111111111,
              "#46039f"
             ],
             [
              0.2222222222222222,
              "#7201a8"
             ],
             [
              0.3333333333333333,
              "#9c179e"
             ],
             [
              0.4444444444444444,
              "#bd3786"
             ],
             [
              0.5555555555555556,
              "#d8576b"
             ],
             [
              0.6666666666666666,
              "#ed7953"
             ],
             [
              0.7777777777777778,
              "#fb9f3a"
             ],
             [
              0.8888888888888888,
              "#fdca26"
             ],
             [
              1,
              "#f0f921"
             ]
            ],
            "type": "surface"
           }
          ],
          "table": [
           {
            "cells": {
             "fill": {
              "color": "#EBF0F8"
             },
             "line": {
              "color": "white"
             }
            },
            "header": {
             "fill": {
              "color": "#C8D4E3"
             },
             "line": {
              "color": "white"
             }
            },
            "type": "table"
           }
          ]
         },
         "layout": {
          "annotationdefaults": {
           "arrowcolor": "#2a3f5f",
           "arrowhead": 0,
           "arrowwidth": 1
          },
          "autotypenumbers": "strict",
          "coloraxis": {
           "colorbar": {
            "outlinewidth": 0,
            "ticks": ""
           }
          },
          "colorscale": {
           "diverging": [
            [
             0,
             "#8e0152"
            ],
            [
             0.1,
             "#c51b7d"
            ],
            [
             0.2,
             "#de77ae"
            ],
            [
             0.3,
             "#f1b6da"
            ],
            [
             0.4,
             "#fde0ef"
            ],
            [
             0.5,
             "#f7f7f7"
            ],
            [
             0.6,
             "#e6f5d0"
            ],
            [
             0.7,
             "#b8e186"
            ],
            [
             0.8,
             "#7fbc41"
            ],
            [
             0.9,
             "#4d9221"
            ],
            [
             1,
             "#276419"
            ]
           ],
           "sequential": [
            [
             0,
             "#0d0887"
            ],
            [
             0.1111111111111111,
             "#46039f"
            ],
            [
             0.2222222222222222,
             "#7201a8"
            ],
            [
             0.3333333333333333,
             "#9c179e"
            ],
            [
             0.4444444444444444,
             "#bd3786"
            ],
            [
             0.5555555555555556,
             "#d8576b"
            ],
            [
             0.6666666666666666,
             "#ed7953"
            ],
            [
             0.7777777777777778,
             "#fb9f3a"
            ],
            [
             0.8888888888888888,
             "#fdca26"
            ],
            [
             1,
             "#f0f921"
            ]
           ],
           "sequentialminus": [
            [
             0,
             "#0d0887"
            ],
            [
             0.1111111111111111,
             "#46039f"
            ],
            [
             0.2222222222222222,
             "#7201a8"
            ],
            [
             0.3333333333333333,
             "#9c179e"
            ],
            [
             0.4444444444444444,
             "#bd3786"
            ],
            [
             0.5555555555555556,
             "#d8576b"
            ],
            [
             0.6666666666666666,
             "#ed7953"
            ],
            [
             0.7777777777777778,
             "#fb9f3a"
            ],
            [
             0.8888888888888888,
             "#fdca26"
            ],
            [
             1,
             "#f0f921"
            ]
           ]
          },
          "colorway": [
           "#636efa",
           "#EF553B",
           "#00cc96",
           "#ab63fa",
           "#FFA15A",
           "#19d3f3",
           "#FF6692",
           "#B6E880",
           "#FF97FF",
           "#FECB52"
          ],
          "font": {
           "color": "#2a3f5f"
          },
          "geo": {
           "bgcolor": "white",
           "lakecolor": "white",
           "landcolor": "#E5ECF6",
           "showlakes": true,
           "showland": true,
           "subunitcolor": "white"
          },
          "hoverlabel": {
           "align": "left"
          },
          "hovermode": "closest",
          "mapbox": {
           "style": "light"
          },
          "paper_bgcolor": "white",
          "plot_bgcolor": "#E5ECF6",
          "polar": {
           "angularaxis": {
            "gridcolor": "white",
            "linecolor": "white",
            "ticks": ""
           },
           "bgcolor": "#E5ECF6",
           "radialaxis": {
            "gridcolor": "white",
            "linecolor": "white",
            "ticks": ""
           }
          },
          "scene": {
           "xaxis": {
            "backgroundcolor": "#E5ECF6",
            "gridcolor": "white",
            "gridwidth": 2,
            "linecolor": "white",
            "showbackground": true,
            "ticks": "",
            "zerolinecolor": "white"
           },
           "yaxis": {
            "backgroundcolor": "#E5ECF6",
            "gridcolor": "white",
            "gridwidth": 2,
            "linecolor": "white",
            "showbackground": true,
            "ticks": "",
            "zerolinecolor": "white"
           },
           "zaxis": {
            "backgroundcolor": "#E5ECF6",
            "gridcolor": "white",
            "gridwidth": 2,
            "linecolor": "white",
            "showbackground": true,
            "ticks": "",
            "zerolinecolor": "white"
           }
          },
          "shapedefaults": {
           "line": {
            "color": "#2a3f5f"
           }
          },
          "ternary": {
           "aaxis": {
            "gridcolor": "white",
            "linecolor": "white",
            "ticks": ""
           },
           "baxis": {
            "gridcolor": "white",
            "linecolor": "white",
            "ticks": ""
           },
           "bgcolor": "#E5ECF6",
           "caxis": {
            "gridcolor": "white",
            "linecolor": "white",
            "ticks": ""
           }
          },
          "title": {
           "x": 0.05
          },
          "xaxis": {
           "automargin": true,
           "gridcolor": "white",
           "linecolor": "white",
           "ticks": "",
           "title": {
            "standoff": 15
           },
           "zerolinecolor": "white",
           "zerolinewidth": 2
          },
          "yaxis": {
           "automargin": true,
           "gridcolor": "white",
           "linecolor": "white",
           "ticks": "",
           "title": {
            "standoff": 15
           },
           "zerolinecolor": "white",
           "zerolinewidth": 2
          }
         }
        },
        "title": {
         "text": "Données par pays"
        }
       }
      },
      "image/png": "[encoded data removed]",
      "text/html": [
       "<div>                            <div id=\"296b12cd-9464-4ae8-854c-ce022baa7929\" class=\"plotly-graph-div\" style=\"height:525px; width:100%;\"></div>            <script type=\"text/javascript\">                require([\"plotly\"], function(Plotly) {                    window.PLOTLYENV=window.PLOTLYENV || {};                                    if (document.getElementById(\"296b12cd-9464-4ae8-854c-ce022baa7929\")) {                    Plotly.newPlot(                        \"296b12cd-9464-4ae8-854c-ce022baa7929\",                        [{\"colorscale\":[[0.0,\"#636efa\"],[1.0,\"#636efa\"]],\"geo\":\"geo\",\"hovertemplate\":\"Value=4.16420494025281\\u003cbr\\u003eCountry or Area=%{location}\\u003cextra\\u003e\\u003c\\u002fextra\\u003e\",\"locationmode\":\"country names\",\"locations\":[\"Albanie\"],\"name\":\"4.16420494025281\",\"showlegend\":true,\"showscale\":false,\"z\":[1],\"type\":\"choropleth\"},{\"colorscale\":[[0.0,\"#EF553B\"],[1.0,\"#EF553B\"]],\"geo\":\"geo\",\"hovertemplate\":\"Value=1.91416666666667\\u003cbr\\u003eCountry or Area=%{location}\\u003cextra\\u003e\\u003c\\u002fextra\\u003e\",\"locationmode\":\"country names\",\"locations\":[\"Albanie\"],\"name\":\"1.91416666666667\",\"showlegend\":true,\"showscale\":false,\"z\":[1],\"type\":\"choropleth\"},{\"colorscale\":[[0.0,\"#00cc96\"],[1.0,\"#00cc96\"]],\"geo\":\"geo\",\"hovertemplate\":\"Value=1.39333333333333\\u003cbr\\u003eCountry or Area=%{location}\\u003cextra\\u003e\\u003c\\u002fextra\\u003e\",\"locationmode\":\"country names\",\"locations\":[\"Albanie\"],\"name\":\"1.39333333333333\",\"showlegend\":true,\"showscale\":false,\"z\":[1],\"type\":\"choropleth\"},{\"colorscale\":[[0.0,\"#ab63fa\"],[1.0,\"#ab63fa\"]],\"geo\":\"geo\",\"hovertemplate\":\"Value=0.830833333333333\\u003cbr\\u003eCountry or Area=%{location}\\u003cextra\\u003e\\u003c\\u002fextra\\u003e\",\"locationmode\":\"country names\",\"locations\":[\"Albanie\"],\"name\":\"0.830833333333333\",\"showlegend\":true,\"showscale\":false,\"z\":[1],\"type\":\"choropleth\"},{\"colorscale\":[[0.0,\"#FFA15A\"],[1.0,\"#FFA15A\"]],\"geo\":\"geo\",\"hovertemplate\":\"Value=0.766666666666667\\u003cbr\\u003eCountry or Area=%{location}\\u003cextra\\u003e\\u003c\\u002fextra\\u003e\",\"locationmode\":\"country names\",\"locations\":[\"Albanie\"],\"name\":\"0.766666666666667\",\"showlegend\":true,\"showscale\":false,\"z\":[1],\"type\":\"choropleth\"},{\"colorscale\":[[0.0,\"#19d3f3\"],[1.0,\"#19d3f3\"]],\"geo\":\"geo\",\"hovertemplate\":\"Value=0.751666666666667\\u003cbr\\u003eCountry or Area=%{location}\\u003cextra\\u003e\\u003c\\u002fextra\\u003e\",\"locationmode\":\"country names\",\"locations\":[\"Albanie\"],\"name\":\"0.751666666666667\",\"showlegend\":true,\"showscale\":false,\"z\":[1],\"type\":\"choropleth\"},{\"colorscale\":[[0.0,\"#FF6692\"],[1.0,\"#FF6692\"]],\"geo\":\"geo\",\"hovertemplate\":\"Value=0.4925\\u003cbr\\u003eCountry or Area=%{location}\\u003cextra\\u003e\\u003c\\u002fextra\\u003e\",\"locationmode\":\"country names\",\"locations\":[\"Albanie\"],\"name\":\"0.4925\",\"showlegend\":true,\"showscale\":false,\"z\":[1],\"type\":\"choropleth\"},{\"colorscale\":[[0.0,\"#B6E880\"],[1.0,\"#B6E880\"]],\"geo\":\"geo\",\"hovertemplate\":\"Value=0.415\\u003cbr\\u003eCountry or Area=%{location}\\u003cextra\\u003e\\u003c\\u002fextra\\u003e\",\"locationmode\":\"country names\",\"locations\":[\"Albanie\"],\"name\":\"0.415\",\"showlegend\":true,\"showscale\":false,\"z\":[1],\"type\":\"choropleth\"},{\"colorscale\":[[0.0,\"#FF97FF\"],[1.0,\"#FF97FF\"]],\"geo\":\"geo\",\"hovertemplate\":\"Value=0.478333333333333\\u003cbr\\u003eCountry or Area=%{location}\\u003cextra\\u003e\\u003c\\u002fextra\\u003e\",\"locationmode\":\"country names\",\"locations\":[\"Albanie\"],\"name\":\"0.478333333333333\",\"showlegend\":true,\"showscale\":false,\"z\":[1],\"type\":\"choropleth\"},{\"colorscale\":[[0.0,\"#FECB52\"],[1.0,\"#FECB52\"]],\"geo\":\"geo\",\"hovertemplate\":\"Value=0.730833333333333\\u003cbr\\u003eCountry or Area=%{location}\\u003cextra\\u003e\\u003c\\u002fextra\\u003e\",\"locationmode\":\"country names\",\"locations\":[\"Albanie\",\"Norv\\u00e8ge\"],\"name\":\"0.730833333333333\",\"showlegend\":true,\"showscale\":false,\"z\":[1,1],\"type\":\"choropleth\"},{\"colorscale\":[[0.0,\"#636efa\"],[1.0,\"#636efa\"]],\"geo\":\"geo\",\"hovertemplate\":\"Value=1.3475\\u003cbr\\u003eCountry or Area=%{location}\\u003cextra\\u003e\\u003c\\u002fextra\\u003e\",\"locationmode\":\"country names\",\"locations\":[\"Albanie\"],\"name\":\"1.3475\",\"showlegend\":true,\"showscale\":false,\"z\":[1],\"type\":\"choropleth\"},{\"colorscale\":[[0.0,\"#00cc96\"],[1.0,\"#00cc96\"]],\"geo\":\"geo\",\"hovertemplate\":\"Value=2.41330833333333\\u003cbr\\u003eCountry or Area=%{location}\\u003cextra\\u003e\\u003c\\u002fextra\\u003e\",\"locationmode\":\"country names\",\"locations\":[\"Bulgarie\"],\"name\":\"2.41330833333333\",\"showlegend\":true,\"showscale\":false,\"z\":[1],\"type\":\"choropleth\"},{\"colorscale\":[[0.0,\"#ab63fa\"],[1.0,\"#ab63fa\"]],\"geo\":\"geo\",\"hovertemplate\":\"Value=1.65581666666667\\u003cbr\\u003eCountry or Area=%{location}\\u003cextra\\u003e\\u003c\\u002fextra\\u003e\",\"locationmode\":\"country names\",\"locations\":[\"Bulgarie\"],\"name\":\"1.65581666666667\",\"showlegend\":true,\"showscale\":false,\"z\":[1],\"type\":\"choropleth\"},{\"colorscale\":[[0.0,\"#FFA15A\"],[1.0,\"#FFA15A\"]],\"geo\":\"geo\",\"hovertemplate\":\"Value=0.613891666666667\\u003cbr\\u003eCountry or Area=%{location}\\u003cextra\\u003e\\u003c\\u002fextra\\u003e\",\"locationmode\":\"country names\",\"locations\":[\"Bulgarie\"],\"name\":\"0.613891666666667\",\"showlegend\":true,\"showscale\":false,\"z\":[1],\"type\":\"choropleth\"},{\"colorscale\":[[0.0,\"#19d3f3\"],[1.0,\"#19d3f3\"]],\"geo\":\"geo\",\"hovertemplate\":\"Value=0.173383333333333\\u003cbr\\u003eCountry or Area=%{location}\\u003cextra\\u003e\\u003c\\u002fextra\\u003e\",\"locationmode\":\"country names\",\"locations\":[\"Bulgarie\"],\"name\":\"0.173383333333333\",\"showlegend\":true,\"showscale\":false,\"z\":[1],\"type\":\"choropleth\"},{\"colorscale\":[[0.0,\"#FF6692\"],[1.0,\"#FF6692\"]],\"geo\":\"geo\",\"hovertemplate\":\"Value=0.0463083333333333\\u003cbr\\u003eCountry or Area=%{location}\\u003cextra\\u003e\\u003c\\u002fextra\\u003e\",\"locationmode\":\"country names\",\"locations\":[\"Bulgarie\"],\"name\":\"0.0463083333333333\",\"showlegend\":true,\"showscale\":false,\"z\":[1],\"type\":\"choropleth\"},{\"colorscale\":[[0.0,\"#B6E880\"],[1.0,\"#B6E880\"]],\"geo\":\"geo\",\"hovertemplate\":\"Value=0.0274583333333333\\u003cbr\\u003eCountry or Area=%{location}\\u003cextra\\u003e\\u003c\\u002fextra\\u003e\",\"locationmode\":\"country names\",\"locations\":[\"Bulgarie\"],\"name\":\"0.0274583333333333\",\"showlegend\":true,\"showscale\":false,\"z\":[1],\"type\":\"choropleth\"},{\"colorscale\":[[0.0,\"#FF97FF\"],[1.0,\"#FF97FF\"]],\"geo\":\"geo\",\"hovertemplate\":\"Value=0.0249666666666667\\u003cbr\\u003eCountry or Area=%{location}\\u003cextra\\u003e\\u003c\\u002fextra\\u003e\",\"locationmode\":\"country names\",\"locations\":[\"Bulgarie\"],\"name\":\"0.0249666666666667\",\"showlegend\":true,\"showscale\":false,\"z\":[1],\"type\":\"choropleth\"},{\"colorscale\":[[0.0,\"#FECB52\"],[1.0,\"#FECB52\"]],\"geo\":\"geo\",\"hovertemplate\":\"Value=0.0133083333333333\\u003cbr\\u003eCountry or Area=%{location}\\u003cextra\\u003e\\u003c\\u002fextra\\u003e\",\"locationmode\":\"country names\",\"locations\":[\"Bulgarie\"],\"name\":\"0.0133083333333333\",\"showlegend\":true,\"showscale\":false,\"z\":[1],\"type\":\"choropleth\"},{\"colorscale\":[[0.0,\"#636efa\"],[1.0,\"#636efa\"]],\"geo\":\"geo\",\"hovertemplate\":\"Value=0.0157666666666667\\u003cbr\\u003eCountry or Area=%{location}\\u003cextra\\u003e\\u003c\\u002fextra\\u003e\",\"locationmode\":\"country names\",\"locations\":[\"Bulgarie\"],\"name\":\"0.0157666666666667\",\"showlegend\":true,\"showscale\":false,\"z\":[1],\"type\":\"choropleth\"},{\"colorscale\":[[0.0,\"#EF553B\"],[1.0,\"#EF553B\"]],\"geo\":\"geo\",\"hovertemplate\":\"Value=0.0198833333333333\\u003cbr\\u003eCountry or Area=%{location}\\u003cextra\\u003e\\u003c\\u002fextra\\u003e\",\"locationmode\":\"country names\",\"locations\":[\"Bulgarie\"],\"name\":\"0.0198833333333333\",\"showlegend\":true,\"showscale\":false,\"z\":[1],\"type\":\"choropleth\"},{\"colorscale\":[[0.0,\"#00cc96\"],[1.0,\"#00cc96\"]],\"geo\":\"geo\",\"hovertemplate\":\"Value=0.0974833333333333\\u003cbr\\u003eCountry or Area=%{location}\\u003cextra\\u003e\\u003c\\u002fextra\\u003e\",\"locationmode\":\"country names\",\"locations\":[\"Bulgarie\"],\"name\":\"0.0974833333333333\",\"showlegend\":true,\"showscale\":false,\"z\":[1],\"type\":\"choropleth\"},{\"colorscale\":[[0.0,\"#ab63fa\"],[1.0,\"#ab63fa\"]],\"geo\":\"geo\",\"hovertemplate\":\"Value=3.00616794970452\\u003cbr\\u003eCountry or Area=%{location}\\u003cextra\\u003e\\u003c\\u002fextra\\u003e\",\"locationmode\":\"country names\",\"locations\":[\"Bosnie-Herz\\u00e9govine\"],\"name\":\"3.00616794970452\",\"showlegend\":true,\"showscale\":false,\"z\":[1],\"type\":\"choropleth\"},{\"colorscale\":[[0.0,\"#FFA15A\"],[1.0,\"#FFA15A\"]],\"geo\":\"geo\",\"hovertemplate\":\"Value=2.66178547140807\\u003cbr\\u003eCountry or Area=%{location}\\u003cextra\\u003e\\u003c\\u002fextra\\u003e\",\"locationmode\":\"country names\",\"locations\":[\"Bosnie-Herz\\u00e9govine\"],\"name\":\"2.66178547140807\",\"showlegend\":true,\"showscale\":false,\"z\":[1],\"type\":\"choropleth\"},{\"colorscale\":[[0.0,\"#19d3f3\"],[1.0,\"#19d3f3\"]],\"geo\":\"geo\",\"hovertemplate\":\"Value=2.05966351885091\\u003cbr\\u003eCountry or Area=%{location}\\u003cextra\\u003e\\u003c\\u002fextra\\u003e\",\"locationmode\":\"country names\",\"locations\":[\"Bosnie-Herz\\u00e9govine\"],\"name\":\"2.05966351885091\",\"showlegend\":true,\"showscale\":false,\"z\":[1],\"type\":\"choropleth\"},{\"colorscale\":[[0.0,\"#FF6692\"],[1.0,\"#FF6692\"]],\"geo\":\"geo\",\"hovertemplate\":\"Value=1.58256550727159\\u003cbr\\u003eCountry or Area=%{location}\\u003cextra\\u003e\\u003c\\u002fextra\\u003e\",\"locationmode\":\"country names\",\"locations\":[\"Bosnie-Herz\\u00e9govine\"],\"name\":\"1.58256550727159\",\"showlegend\":true,\"showscale\":false,\"z\":[1],\"type\":\"choropleth\"},{\"colorscale\":[[0.0,\"#B6E880\"],[1.0,\"#B6E880\"]],\"geo\":\"geo\",\"hovertemplate\":\"Value=1.20898957612111\\u003cbr\\u003eCountry or Area=%{location}\\u003cextra\\u003e\\u003c\\u002fextra\\u003e\",\"locationmode\":\"country names\",\"locations\":[\"Bosnie-Herz\\u00e9govine\"],\"name\":\"1.20898957612111\",\"showlegend\":true,\"showscale\":false,\"z\":[1],\"type\":\"choropleth\"},{\"colorscale\":[[0.0,\"#FF97FF\"],[1.0,\"#FF97FF\"]],\"geo\":\"geo\",\"hovertemplate\":\"Value=0.981735723071837\\u003cbr\\u003eCountry or Area=%{location}\\u003cextra\\u003e\\u003c\\u002fextra\\u003e\",\"locationmode\":\"country names\",\"locations\":[\"Bosnie-Herz\\u00e9govine\"],\"name\":\"0.981735723071837\",\"showlegend\":true,\"showscale\":false,\"z\":[1],\"type\":\"choropleth\"},{\"colorscale\":[[0.0,\"#FECB52\"],[1.0,\"#FECB52\"]],\"geo\":\"geo\",\"hovertemplate\":\"Value=0.912892644638007\\u003cbr\\u003eCountry or Area=%{location}\\u003cextra\\u003e\\u003c\\u002fextra\\u003e\",\"locationmode\":\"country names\",\"locations\":[\"Bosnie-Herz\\u00e9govine\"],\"name\":\"0.912892644638007\",\"showlegend\":true,\"showscale\":false,\"z\":[1],\"type\":\"choropleth\"},{\"colorscale\":[[0.0,\"#636efa\"],[1.0,\"#636efa\"]],\"geo\":\"geo\",\"hovertemplate\":\"Value=0.795801580613642\\u003cbr\\u003eCountry or Area=%{location}\\u003cextra\\u003e\\u003c\\u002fextra\\u003e\",\"locationmode\":\"country names\",\"locations\":[\"Bosnie-Herz\\u00e9govine\"],\"name\":\"0.795801580613642\",\"showlegend\":true,\"showscale\":false,\"z\":[1],\"type\":\"choropleth\"},{\"colorscale\":[[0.0,\"#EF553B\"],[1.0,\"#EF553B\"]],\"geo\":\"geo\",\"hovertemplate\":\"Value=0.576406843413973\\u003cbr\\u003eCountry or Area=%{location}\\u003cextra\\u003e\\u003c\\u002fextra\\u003e\",\"locationmode\":\"country names\",\"locations\":[\"Bosnie-Herz\\u00e9govine\"],\"name\":\"0.576406843413973\",\"showlegend\":true,\"showscale\":false,\"z\":[1],\"type\":\"choropleth\"},{\"colorscale\":[[0.0,\"#00cc96\"],[1.0,\"#00cc96\"]],\"geo\":\"geo\",\"hovertemplate\":\"Value=0.641369832300789\\u003cbr\\u003eCountry or Area=%{location}\\u003cextra\\u003e\\u003c\\u002fextra\\u003e\",\"locationmode\":\"country names\",\"locations\":[\"Bosnie-Herz\\u00e9govine\"],\"name\":\"0.641369832300789\",\"showlegend\":true,\"showscale\":false,\"z\":[1],\"type\":\"choropleth\"},{\"colorscale\":[[0.0,\"#ab63fa\"],[1.0,\"#ab63fa\"]],\"geo\":\"geo\",\"hovertemplate\":\"Value=1.17538632636679\\u003cbr\\u003eCountry or Area=%{location}\\u003cextra\\u003e\\u003c\\u002fextra\\u003e\",\"locationmode\":\"country names\",\"locations\":[\"Bosnie-Herz\\u00e9govine\"],\"name\":\"1.17538632636679\",\"showlegend\":true,\"showscale\":false,\"z\":[1],\"type\":\"choropleth\"},{\"colorscale\":[[0.0,\"#FFA15A\"],[1.0,\"#FFA15A\"]],\"geo\":\"geo\",\"hovertemplate\":\"Value=0.0333333333333333\\u003cbr\\u003eCountry or Area=%{location}\\u003cextra\\u003e\\u003c\\u002fextra\\u003e\",\"locationmode\":\"country names\",\"locations\":[\"Suisse\"],\"name\":\"0.0333333333333333\",\"showlegend\":true,\"showscale\":false,\"z\":[1],\"type\":\"choropleth\"},{\"colorscale\":[[0.0,\"#19d3f3\"],[1.0,\"#19d3f3\"]],\"geo\":\"geo\",\"hovertemplate\":\"Value=0.0291666666666667\\u003cbr\\u003eCountry or Area=%{location}\\u003cextra\\u003e\\u003c\\u002fextra\\u003e\",\"locationmode\":\"country names\",\"locations\":[\"Suisse\"],\"name\":\"0.0291666666666667\",\"showlegend\":true,\"showscale\":false,\"z\":[1],\"type\":\"choropleth\"},{\"colorscale\":[[0.0,\"#FF6692\"],[1.0,\"#FF6692\"]],\"geo\":\"geo\",\"hovertemplate\":\"Value=-0.1425\\u003cbr\\u003eCountry or Area=%{location}\\u003cextra\\u003e\\u003c\\u002fextra\\u003e\",\"locationmode\":\"country names\",\"locations\":[\"Suisse\"],\"name\":\"-0.1425\",\"showlegend\":true,\"showscale\":false,\"z\":[1],\"type\":\"choropleth\"},{\"colorscale\":[[0.0,\"#B6E880\"],[1.0,\"#B6E880\"]],\"geo\":\"geo\",\"hovertemplate\":\"Value=-0.200833333333333\\u003cbr\\u003eCountry or Area=%{location}\\u003cextra\\u003e\\u003c\\u002fextra\\u003e\",\"locationmode\":\"country names\",\"locations\":[\"Suisse\"],\"name\":\"-0.200833333333333\",\"showlegend\":true,\"showscale\":false,\"z\":[1],\"type\":\"choropleth\"},{\"colorscale\":[[0.0,\"#FF97FF\"],[1.0,\"#FF97FF\"]],\"geo\":\"geo\",\"hovertemplate\":\"Value=-0.271760460833333\\u003cbr\\u003eCountry or Area=%{location}\\u003cextra\\u003e\\u003c\\u002fextra\\u003e\",\"locationmode\":\"country names\",\"locations\":[\"Suisse\"],\"name\":\"-0.271760460833333\",\"showlegend\":true,\"showscale\":false,\"z\":[1],\"type\":\"choropleth\"},{\"colorscale\":[[0.0,\"#FECB52\"],[1.0,\"#FECB52\"]],\"geo\":\"geo\",\"hovertemplate\":\"Value=-0.315815475833333\\u003cbr\\u003eCountry or Area=%{location}\\u003cextra\\u003e\\u003c\\u002fextra\\u003e\",\"locationmode\":\"country names\",\"locations\":[\"Suisse\"],\"name\":\"-0.315815475833333\",\"showlegend\":true,\"showscale\":false,\"z\":[1],\"type\":\"choropleth\"},{\"colorscale\":[[0.0,\"#636efa\"],[1.0,\"#636efa\"]],\"geo\":\"geo\",\"hovertemplate\":\"Value=-0.351080896666667\\u003cbr\\u003eCountry or Area=%{location}\\u003cextra\\u003e\\u003c\\u002fextra\\u003e\",\"locationmode\":\"country names\",\"locations\":[\"Suisse\"],\"name\":\"-0.351080896666667\",\"showlegend\":true,\"showscale\":false,\"z\":[1],\"type\":\"choropleth\"},{\"colorscale\":[[0.0,\"#EF553B\"],[1.0,\"#EF553B\"]],\"geo\":\"geo\",\"hovertemplate\":\"Value=-0.383657405833333\\u003cbr\\u003eCountry or Area=%{location}\\u003cextra\\u003e\\u003c\\u002fextra\\u003e\",\"locationmode\":\"country names\",\"locations\":[\"Suisse\"],\"name\":\"-0.383657405833333\",\"showlegend\":true,\"showscale\":false,\"z\":[1],\"type\":\"choropleth\"},{\"colorscale\":[[0.0,\"#00cc96\"],[1.0,\"#00cc96\"]],\"geo\":\"geo\",\"hovertemplate\":\"Value=-0.4185307025\\u003cbr\\u003eCountry or Area=%{location}\\u003cextra\\u003e\\u003c\\u002fextra\\u003e\",\"locationmode\":\"country names\",\"locations\":[\"Suisse\"],\"name\":\"-0.4185307025\",\"showlegend\":true,\"showscale\":false,\"z\":[1],\"type\":\"choropleth\"},{\"colorscale\":[[0.0,\"#ab63fa\"],[1.0,\"#ab63fa\"]],\"geo\":\"geo\",\"hovertemplate\":\"Value=-0.1522561575\\u003cbr\\u003eCountry or Area=%{location}\\u003cextra\\u003e\\u003c\\u002fextra\\u003e\",\"locationmode\":\"country names\",\"locations\":[\"Suisse\"],\"name\":\"-0.1522561575\",\"showlegend\":true,\"showscale\":false,\"z\":[1],\"type\":\"choropleth\"},{\"colorscale\":[[0.0,\"#FFA15A\"],[1.0,\"#FFA15A\"]],\"geo\":\"geo\",\"hovertemplate\":\"Value=1.09207704666667\\u003cbr\\u003eCountry or Area=%{location}\\u003cextra\\u003e\\u003c\\u002fextra\\u003e\",\"locationmode\":\"country names\",\"locations\":[\"Suisse\"],\"name\":\"1.09207704666667\",\"showlegend\":true,\"showscale\":false,\"z\":[1],\"type\":\"choropleth\"},{\"colorscale\":[[0.0,\"#19d3f3\"],[1.0,\"#19d3f3\"]],\"geo\":\"geo\",\"hovertemplate\":\"Value=0.861548172781148\\u003cbr\\u003eCountry or Area=%{location}\\u003cextra\\u003e\\u003c\\u002fextra\\u003e\",\"locationmode\":\"country names\",\"locations\":[\"R\\u00e9publique tch\\u00e8que\"],\"name\":\"0.861548172781148\",\"showlegend\":true,\"showscale\":false,\"z\":[1],\"type\":\"choropleth\"},{\"colorscale\":[[0.0,\"#FF6692\"],[1.0,\"#FF6692\"]],\"geo\":\"geo\",\"hovertemplate\":\"Value=0.701499898080767\\u003cbr\\u003eCountry or Area=%{location}\\u003cextra\\u003e\\u003c\\u002fextra\\u003e\",\"locationmode\":\"country names\",\"locations\":[\"R\\u00e9publique tch\\u00e8que\"],\"name\":\"0.701499898080767\",\"showlegend\":true,\"showscale\":false,\"z\":[1],\"type\":\"choropleth\"},{\"colorscale\":[[0.0,\"#B6E880\"],[1.0,\"#B6E880\"]],\"geo\":\"geo\",\"hovertemplate\":\"Value=0.52933284578413\\u003cbr\\u003eCountry or Area=%{location}\\u003cextra\\u003e\\u003c\\u002fextra\\u003e\",\"locationmode\":\"country names\",\"locations\":[\"R\\u00e9publique tch\\u00e8que\"],\"name\":\"0.52933284578413\",\"showlegend\":true,\"showscale\":false,\"z\":[1],\"type\":\"choropleth\"},{\"colorscale\":[[0.0,\"#FF97FF\"],[1.0,\"#FF97FF\"]],\"geo\":\"geo\",\"hovertemplate\":\"Value=0.373113336623673\\u003cbr\\u003eCountry or Area=%{location}\\u003cextra\\u003e\\u003c\\u002fextra\\u003e\",\"locationmode\":\"country names\",\"locations\":[\"R\\u00e9publique tch\\u00e8que\"],\"name\":\"0.373113336623673\",\"showlegend\":true,\"showscale\":false,\"z\":[1],\"type\":\"choropleth\"},{\"colorscale\":[[0.0,\"#FECB52\"],[1.0,\"#FECB52\"]],\"geo\":\"geo\",\"hovertemplate\":\"Value=0.275124598576577\\u003cbr\\u003eCountry or Area=%{location}\\u003cextra\\u003e\\u003c\\u002fextra\\u003e\",\"locationmode\":\"country names\",\"locations\":[\"R\\u00e9publique tch\\u00e8que\"],\"name\":\"0.275124598576577\",\"showlegend\":true,\"showscale\":false,\"z\":[1],\"type\":\"choropleth\"},{\"colorscale\":[[0.0,\"#636efa\"],[1.0,\"#636efa\"]],\"geo\":\"geo\",\"hovertemplate\":\"Value=0.275896366580548\\u003cbr\\u003eCountry or Area=%{location}\\u003cextra\\u003e\\u003c\\u002fextra\\u003e\",\"locationmode\":\"country names\",\"locations\":[\"R\\u00e9publique tch\\u00e8que\"],\"name\":\"0.275896366580548\",\"showlegend\":true,\"showscale\":false,\"z\":[1],\"type\":\"choropleth\"},{\"colorscale\":[[0.0,\"#EF553B\"],[1.0,\"#EF553B\"]],\"geo\":\"geo\",\"hovertemplate\":\"Value=0.388557809322386\\u003cbr\\u003eCountry or Area=%{location}\\u003cextra\\u003e\\u003c\\u002fextra\\u003e\",\"locationmode\":\"country names\",\"locations\":[\"R\\u00e9publique tch\\u00e8que\"],\"name\":\"0.388557809322386\",\"showlegend\":true,\"showscale\":false,\"z\":[1],\"type\":\"choropleth\"},{\"colorscale\":[[0.0,\"#00cc96\"],[1.0,\"#00cc96\"]],\"geo\":\"geo\",\"hovertemplate\":\"Value=0.303558184400765\\u003cbr\\u003eCountry or Area=%{location}\\u003cextra\\u003e\\u003c\\u002fextra\\u003e\",\"locationmode\":\"country names\",\"locations\":[\"R\\u00e9publique tch\\u00e8que\"],\"name\":\"0.303558184400765\",\"showlegend\":true,\"showscale\":false,\"z\":[1],\"type\":\"choropleth\"},{\"colorscale\":[[0.0,\"#ab63fa\"],[1.0,\"#ab63fa\"]],\"geo\":\"geo\",\"hovertemplate\":\"Value=0.233401665658425\\u003cbr\\u003eCountry or Area=%{location}\\u003cextra\\u003e\\u003c\\u002fextra\\u003e\",\"locationmode\":\"country names\",\"locations\":[\"R\\u00e9publique tch\\u00e8que\"],\"name\":\"0.233401665658425\",\"showlegend\":true,\"showscale\":false,\"z\":[1],\"type\":\"choropleth\"},{\"colorscale\":[[0.0,\"#FFA15A\"],[1.0,\"#FFA15A\"]],\"geo\":\"geo\",\"hovertemplate\":\"Value=1.39768620993967\\u003cbr\\u003eCountry or Area=%{location}\\u003cextra\\u003e\\u003c\\u002fextra\\u003e\",\"locationmode\":\"country names\",\"locations\":[\"R\\u00e9publique tch\\u00e8que\"],\"name\":\"1.39768620993967\",\"showlegend\":true,\"showscale\":false,\"z\":[1],\"type\":\"choropleth\"},{\"colorscale\":[[0.0,\"#19d3f3\"],[1.0,\"#19d3f3\"]],\"geo\":\"geo\",\"hovertemplate\":\"Value=2.41156535744902\\u003cbr\\u003eCountry or Area=%{location}\\u003cextra\\u003e\\u003c\\u002fextra\\u003e\",\"locationmode\":\"country names\",\"locations\":[\"R\\u00e9publique tch\\u00e8que\"],\"name\":\"2.41156535744902\",\"showlegend\":true,\"showscale\":false,\"z\":[1],\"type\":\"choropleth\"},{\"colorscale\":[[0.0,\"#FF6692\"],[1.0,\"#FF6692\"]],\"geo\":\"geo\",\"hovertemplate\":\"Value=1.59666666666667\\u003cbr\\u003eCountry or Area=%{location}\\u003cextra\\u003e\\u003c\\u002fextra\\u003e\",\"locationmode\":\"country names\",\"locations\":[\"France\"],\"name\":\"1.59666666666667\",\"showlegend\":true,\"showscale\":false,\"z\":[1],\"type\":\"choropleth\"},{\"colorscale\":[[0.0,\"#B6E880\"],[1.0,\"#B6E880\"]],\"geo\":\"geo\",\"hovertemplate\":\"Value=1.14583333333333\\u003cbr\\u003eCountry or Area=%{location}\\u003cextra\\u003e\\u003c\\u002fextra\\u003e\",\"locationmode\":\"country names\",\"locations\":[\"France\"],\"name\":\"1.14583333333333\",\"showlegend\":true,\"showscale\":false,\"z\":[1],\"type\":\"choropleth\"},{\"colorscale\":[[0.0,\"#FF97FF\"],[1.0,\"#FF97FF\"]],\"geo\":\"geo\",\"hovertemplate\":\"Value=0.895833333333333\\u003cbr\\u003eCountry or Area=%{location}\\u003cextra\\u003e\\u003c\\u002fextra\\u003e\",\"locationmode\":\"country names\",\"locations\":[\"France\"],\"name\":\"0.895833333333333\",\"showlegend\":true,\"showscale\":false,\"z\":[1],\"type\":\"choropleth\"},{\"colorscale\":[[0.0,\"#FECB52\"],[1.0,\"#FECB52\"]],\"geo\":\"geo\",\"hovertemplate\":\"Value=0.7575\\u003cbr\\u003eCountry or Area=%{location}\\u003cextra\\u003e\\u003c\\u002fextra\\u003e\",\"locationmode\":\"country names\",\"locations\":[\"France\"],\"name\":\"0.7575\",\"showlegend\":true,\"showscale\":false,\"z\":[1],\"type\":\"choropleth\"},{\"colorscale\":[[0.0,\"#636efa\"],[1.0,\"#636efa\"]],\"geo\":\"geo\",\"hovertemplate\":\"Value=0.791666666666667\\u003cbr\\u003eCountry or Area=%{location}\\u003cextra\\u003e\\u003c\\u002fextra\\u003e\",\"locationmode\":\"country names\",\"locations\":[\"France\"],\"name\":\"0.791666666666667\",\"showlegend\":true,\"showscale\":false,\"z\":[1],\"type\":\"choropleth\"},{\"colorscale\":[[0.0,\"#EF553B\"],[1.0,\"#EF553B\"]],\"geo\":\"geo\",\"hovertemplate\":\"Value=1.52083333333333\\u003cbr\\u003eCountry or Area=%{location}\\u003cextra\\u003e\\u003c\\u002fextra\\u003e\",\"locationmode\":\"country names\",\"locations\":[\"Croatie\"],\"name\":\"1.52083333333333\",\"showlegend\":true,\"showscale\":false,\"z\":[1],\"type\":\"choropleth\"},{\"colorscale\":[[0.0,\"#00cc96\"],[1.0,\"#00cc96\"]],\"geo\":\"geo\",\"hovertemplate\":\"Value=1.35333333333333\\u003cbr\\u003eCountry or Area=%{location}\\u003cextra\\u003e\\u003c\\u002fextra\\u003e\",\"locationmode\":\"country names\",\"locations\":[\"Croatie\"],\"name\":\"1.35333333333333\",\"showlegend\":true,\"showscale\":false,\"z\":[1],\"type\":\"choropleth\"},{\"colorscale\":[[0.0,\"#ab63fa\"],[1.0,\"#ab63fa\"]],\"geo\":\"geo\",\"hovertemplate\":\"Value=3.770748274375\\u003cbr\\u003eCountry or Area=%{location}\\u003cextra\\u003e\\u003c\\u002fextra\\u003e\",\"locationmode\":\"country names\",\"locations\":[\"Hongrie\"],\"name\":\"3.770748274375\",\"showlegend\":true,\"showscale\":false,\"z\":[1],\"type\":\"choropleth\"},{\"colorscale\":[[0.0,\"#FFA15A\"],[1.0,\"#FFA15A\"]],\"geo\":\"geo\",\"hovertemplate\":\"Value=1.77746258516667\\u003cbr\\u003eCountry or Area=%{location}\\u003cextra\\u003e\\u003c\\u002fextra\\u003e\",\"locationmode\":\"country names\",\"locations\":[\"Hongrie\"],\"name\":\"1.77746258516667\",\"showlegend\":true,\"showscale\":false,\"z\":[1],\"type\":\"choropleth\"},{\"colorscale\":[[0.0,\"#19d3f3\"],[1.0,\"#19d3f3\"]],\"geo\":\"geo\",\"hovertemplate\":\"Value=1.1125032961\\u003cbr\\u003eCountry or Area=%{location}\\u003cextra\\u003e\\u003c\\u002fextra\\u003e\",\"locationmode\":\"country names\",\"locations\":[\"Hongrie\"],\"name\":\"1.1125032961\",\"showlegend\":true,\"showscale\":false,\"z\":[1],\"type\":\"choropleth\"},{\"colorscale\":[[0.0,\"#FF6692\"],[1.0,\"#FF6692\"]],\"geo\":\"geo\",\"hovertemplate\":\"Value=0.580953226616667\\u003cbr\\u003eCountry or Area=%{location}\\u003cextra\\u003e\\u003c\\u002fextra\\u003e\",\"locationmode\":\"country names\",\"locations\":[\"Hongrie\"],\"name\":\"0.580953226616667\",\"showlegend\":true,\"showscale\":false,\"z\":[1],\"type\":\"choropleth\"},{\"colorscale\":[[0.0,\"#B6E880\"],[1.0,\"#B6E880\"]],\"geo\":\"geo\",\"hovertemplate\":\"Value=0.120096355691667\\u003cbr\\u003eCountry or Area=%{location}\\u003cextra\\u003e\\u003c\\u002fextra\\u003e\",\"locationmode\":\"country names\",\"locations\":[\"Hongrie\"],\"name\":\"0.120096355691667\",\"showlegend\":true,\"showscale\":false,\"z\":[1],\"type\":\"choropleth\"},{\"colorscale\":[[0.0,\"#FF97FF\"],[1.0,\"#FF97FF\"]],\"geo\":\"geo\",\"hovertemplate\":\"Value=0.0643224296\\u003cbr\\u003eCountry or Area=%{location}\\u003cextra\\u003e\\u003c\\u002fextra\\u003e\",\"locationmode\":\"country names\",\"locations\":[\"Hongrie\"],\"name\":\"0.0643224296\",\"showlegend\":true,\"showscale\":false,\"z\":[1],\"type\":\"choropleth\"},{\"colorscale\":[[0.0,\"#FECB52\"],[1.0,\"#FECB52\"]],\"geo\":\"geo\",\"hovertemplate\":\"Value=0.104764135675\\u003cbr\\u003eCountry or Area=%{location}\\u003cextra\\u003e\\u003c\\u002fextra\\u003e\",\"locationmode\":\"country names\",\"locations\":[\"Hongrie\"],\"name\":\"0.104764135675\",\"showlegend\":true,\"showscale\":false,\"z\":[1],\"type\":\"choropleth\"},{\"colorscale\":[[0.0,\"#636efa\"],[1.0,\"#636efa\"]],\"geo\":\"geo\",\"hovertemplate\":\"Value=0.467145774525\\u003cbr\\u003eCountry or Area=%{location}\\u003cextra\\u003e\\u003c\\u002fextra\\u003e\",\"locationmode\":\"country names\",\"locations\":[\"Hongrie\"],\"name\":\"0.467145774525\",\"showlegend\":true,\"showscale\":false,\"z\":[1],\"type\":\"choropleth\"},{\"colorscale\":[[0.0,\"#EF553B\"],[1.0,\"#EF553B\"]],\"geo\":\"geo\",\"hovertemplate\":\"Value=1.0140479751\\u003cbr\\u003eCountry or Area=%{location}\\u003cextra\\u003e\\u003c\\u002fextra\\u003e\",\"locationmode\":\"country names\",\"locations\":[\"Hongrie\"],\"name\":\"1.0140479751\",\"showlegend\":true,\"showscale\":false,\"z\":[1],\"type\":\"choropleth\"},{\"colorscale\":[[0.0,\"#00cc96\"],[1.0,\"#00cc96\"]],\"geo\":\"geo\",\"hovertemplate\":\"Value=8.36367683543333\\u003cbr\\u003eCountry or Area=%{location}\\u003cextra\\u003e\\u003c\\u002fextra\\u003e\",\"locationmode\":\"country names\",\"locations\":[\"Hongrie\"],\"name\":\"8.36367683543333\",\"showlegend\":true,\"showscale\":false,\"z\":[1],\"type\":\"choropleth\"},{\"colorscale\":[[0.0,\"#ab63fa\"],[1.0,\"#ab63fa\"]],\"geo\":\"geo\",\"hovertemplate\":\"Value=13.1175665841917\\u003cbr\\u003eCountry or Area=%{location}\\u003cextra\\u003e\\u003c\\u002fextra\\u003e\",\"locationmode\":\"country names\",\"locations\":[\"Hongrie\"],\"name\":\"13.1175665841917\",\"showlegend\":true,\"showscale\":false,\"z\":[1],\"type\":\"choropleth\"},{\"colorscale\":[[0.0,\"#FFA15A\"],[1.0,\"#FFA15A\"]],\"geo\":\"geo\",\"hovertemplate\":\"Value=2.91170833333333\\u003cbr\\u003eCountry or Area=%{location}\\u003cextra\\u003e\\u003c\\u002fextra\\u003e\",\"locationmode\":\"country names\",\"locations\":[\"Mont\\u00e9n\\u00e9gro\"],\"name\":\"2.91170833333333\",\"showlegend\":true,\"showscale\":false,\"z\":[1],\"type\":\"choropleth\"},{\"colorscale\":[[0.0,\"#19d3f3\"],[1.0,\"#19d3f3\"]],\"geo\":\"geo\",\"hovertemplate\":\"Value=2.13936666666667\\u003cbr\\u003eCountry or Area=%{location}\\u003cextra\\u003e\\u003c\\u002fextra\\u003e\",\"locationmode\":\"country names\",\"locations\":[\"Mont\\u00e9n\\u00e9gro\"],\"name\":\"2.13936666666667\",\"showlegend\":true,\"showscale\":false,\"z\":[1],\"type\":\"choropleth\"},{\"colorscale\":[[0.0,\"#FF6692\"],[1.0,\"#FF6692\"]],\"geo\":\"geo\",\"hovertemplate\":\"Value=1.45808333333333\\u003cbr\\u003eCountry or Area=%{location}\\u003cextra\\u003e\\u003c\\u002fextra\\u003e\",\"locationmode\":\"country names\",\"locations\":[\"Mont\\u00e9n\\u00e9gro\"],\"name\":\"1.45808333333333\",\"showlegend\":true,\"showscale\":false,\"z\":[1],\"type\":\"choropleth\"},{\"colorscale\":[[0.0,\"#B6E880\"],[1.0,\"#B6E880\"]],\"geo\":\"geo\",\"hovertemplate\":\"Value=1.06526666666667\\u003cbr\\u003eCountry or Area=%{location}\\u003cextra\\u003e\\u003c\\u002fextra\\u003e\",\"locationmode\":\"country names\",\"locations\":[\"Mont\\u00e9n\\u00e9gro\"],\"name\":\"1.06526666666667\",\"showlegend\":true,\"showscale\":false,\"z\":[1],\"type\":\"choropleth\"},{\"colorscale\":[[0.0,\"#FF97FF\"],[1.0,\"#FF97FF\"]],\"geo\":\"geo\",\"hovertemplate\":\"Value=0.879166666666667\\u003cbr\\u003eCountry or Area=%{location}\\u003cextra\\u003e\\u003c\\u002fextra\\u003e\",\"locationmode\":\"country names\",\"locations\":[\"Mont\\u00e9n\\u00e9gro\"],\"name\":\"0.879166666666667\",\"showlegend\":true,\"showscale\":false,\"z\":[1],\"type\":\"choropleth\"},{\"colorscale\":[[0.0,\"#FECB52\"],[1.0,\"#FECB52\"]],\"geo\":\"geo\",\"hovertemplate\":\"Value=0.608216666666667\\u003cbr\\u003eCountry or Area=%{location}\\u003cextra\\u003e\\u003c\\u002fextra\\u003e\",\"locationmode\":\"country names\",\"locations\":[\"Mont\\u00e9n\\u00e9gro\"],\"name\":\"0.608216666666667\",\"showlegend\":true,\"showscale\":false,\"z\":[1],\"type\":\"choropleth\"},{\"colorscale\":[[0.0,\"#636efa\"],[1.0,\"#636efa\"]],\"geo\":\"geo\",\"hovertemplate\":\"Value=0.46045\\u003cbr\\u003eCountry or Area=%{location}\\u003cextra\\u003e\\u003c\\u002fextra\\u003e\",\"locationmode\":\"country names\",\"locations\":[\"Mont\\u00e9n\\u00e9gro\"],\"name\":\"0.46045\",\"showlegend\":true,\"showscale\":false,\"z\":[1],\"type\":\"choropleth\"},{\"colorscale\":[[0.0,\"#EF553B\"],[1.0,\"#EF553B\"]],\"geo\":\"geo\",\"hovertemplate\":\"Value=0.40455\\u003cbr\\u003eCountry or Area=%{location}\\u003cextra\\u003e\\u003c\\u002fextra\\u003e\",\"locationmode\":\"country names\",\"locations\":[\"Mont\\u00e9n\\u00e9gro\"],\"name\":\"0.40455\",\"showlegend\":true,\"showscale\":false,\"z\":[1],\"type\":\"choropleth\"},{\"colorscale\":[[0.0,\"#00cc96\"],[1.0,\"#00cc96\"]],\"geo\":\"geo\",\"hovertemplate\":\"Value=0.371358333333333\\u003cbr\\u003eCountry or Area=%{location}\\u003cextra\\u003e\\u003c\\u002fextra\\u003e\",\"locationmode\":\"country names\",\"locations\":[\"Mont\\u00e9n\\u00e9gro\"],\"name\":\"0.371358333333333\",\"showlegend\":true,\"showscale\":false,\"z\":[1],\"type\":\"choropleth\"},{\"colorscale\":[[0.0,\"#ab63fa\"],[1.0,\"#ab63fa\"]],\"geo\":\"geo\",\"hovertemplate\":\"Value=0.288341666666667\\u003cbr\\u003eCountry or Area=%{location}\\u003cextra\\u003e\\u003c\\u002fextra\\u003e\",\"locationmode\":\"country names\",\"locations\":[\"Mont\\u00e9n\\u00e9gro\"],\"name\":\"0.288341666666667\",\"showlegend\":true,\"showscale\":false,\"z\":[1],\"type\":\"choropleth\"},{\"colorscale\":[[0.0,\"#FFA15A\"],[1.0,\"#FFA15A\"]],\"geo\":\"geo\",\"hovertemplate\":\"Value=0.267766666666667\\u003cbr\\u003eCountry or Area=%{location}\\u003cextra\\u003e\\u003c\\u002fextra\\u003e\",\"locationmode\":\"country names\",\"locations\":[\"Mont\\u00e9n\\u00e9gro\"],\"name\":\"0.267766666666667\",\"showlegend\":true,\"showscale\":false,\"z\":[1],\"type\":\"choropleth\"},{\"colorscale\":[[0.0,\"#19d3f3\"],[1.0,\"#19d3f3\"]],\"geo\":\"geo\",\"hovertemplate\":\"Value=2.44\\u003cbr\\u003eCountry or Area=%{location}\\u003cextra\\u003e\\u003c\\u002fextra\\u003e\",\"locationmode\":\"country names\",\"locations\":[\"Pays-Bas\"],\"name\":\"2.44\",\"showlegend\":true,\"showscale\":false,\"z\":[1],\"type\":\"choropleth\"},{\"colorscale\":[[0.0,\"#FF6692\"],[1.0,\"#FF6692\"]],\"geo\":\"geo\",\"hovertemplate\":\"Value=2.19\\u003cbr\\u003eCountry or Area=%{location}\\u003cextra\\u003e\\u003c\\u002fextra\\u003e\",\"locationmode\":\"country names\",\"locations\":[\"Norv\\u00e8ge\"],\"name\":\"2.19\",\"showlegend\":true,\"showscale\":false,\"z\":[1],\"type\":\"choropleth\"},{\"colorscale\":[[0.0,\"#B6E880\"],[1.0,\"#B6E880\"]],\"geo\":\"geo\",\"hovertemplate\":\"Value=2.07166666666667\\u003cbr\\u003eCountry or Area=%{location}\\u003cextra\\u003e\\u003c\\u002fextra\\u003e\",\"locationmode\":\"country names\",\"locations\":[\"Norv\\u00e8ge\"],\"name\":\"2.07166666666667\",\"showlegend\":true,\"showscale\":false,\"z\":[1],\"type\":\"choropleth\"},{\"colorscale\":[[0.0,\"#FF97FF\"],[1.0,\"#FF97FF\"]],\"geo\":\"geo\",\"hovertemplate\":\"Value=1.31333333333333\\u003cbr\\u003eCountry or Area=%{location}\\u003cextra\\u003e\\u003c\\u002fextra\\u003e\",\"locationmode\":\"country names\",\"locations\":[\"Norv\\u00e8ge\"],\"name\":\"1.31333333333333\",\"showlegend\":true,\"showscale\":false,\"z\":[1],\"type\":\"choropleth\"},{\"colorscale\":[[0.0,\"#FECB52\"],[1.0,\"#FECB52\"]],\"geo\":\"geo\",\"hovertemplate\":\"Value=0.761666666666667\\u003cbr\\u003eCountry or Area=%{location}\\u003cextra\\u003e\\u003c\\u002fextra\\u003e\",\"locationmode\":\"country names\",\"locations\":[\"Norv\\u00e8ge\"],\"name\":\"0.761666666666667\",\"showlegend\":true,\"showscale\":false,\"z\":[1],\"type\":\"choropleth\"},{\"colorscale\":[[0.0,\"#636efa\"],[1.0,\"#636efa\"]],\"geo\":\"geo\",\"hovertemplate\":\"Value=0.723333333333333\\u003cbr\\u003eCountry or Area=%{location}\\u003cextra\\u003e\\u003c\\u002fextra\\u003e\",\"locationmode\":\"country names\",\"locations\":[\"Norv\\u00e8ge\"],\"name\":\"0.723333333333333\",\"showlegend\":true,\"showscale\":false,\"z\":[1],\"type\":\"choropleth\"},{\"colorscale\":[[0.0,\"#EF553B\"],[1.0,\"#EF553B\"]],\"geo\":\"geo\",\"hovertemplate\":\"Value=0.928333333333333\\u003cbr\\u003eCountry or Area=%{location}\\u003cextra\\u003e\\u003c\\u002fextra\\u003e\",\"locationmode\":\"country names\",\"locations\":[\"Norv\\u00e8ge\"],\"name\":\"0.928333333333333\",\"showlegend\":true,\"showscale\":false,\"z\":[1],\"type\":\"choropleth\"},{\"colorscale\":[[0.0,\"#00cc96\"],[1.0,\"#00cc96\"]],\"geo\":\"geo\",\"hovertemplate\":\"Value=0.5975\\u003cbr\\u003eCountry or Area=%{location}\\u003cextra\\u003e\\u003c\\u002fextra\\u003e\",\"locationmode\":\"country names\",\"locations\":[\"Norv\\u00e8ge\"],\"name\":\"0.5975\",\"showlegend\":true,\"showscale\":false,\"z\":[1],\"type\":\"choropleth\"},{\"colorscale\":[[0.0,\"#ab63fa\"],[1.0,\"#ab63fa\"]],\"geo\":\"geo\",\"hovertemplate\":\"Value=0.301666666666667\\u003cbr\\u003eCountry or Area=%{location}\\u003cextra\\u003e\\u003c\\u002fextra\\u003e\",\"locationmode\":\"country names\",\"locations\":[\"Norv\\u00e8ge\"],\"name\":\"0.301666666666667\",\"showlegend\":true,\"showscale\":false,\"z\":[1],\"type\":\"choropleth\"},{\"colorscale\":[[0.0,\"#FFA15A\"],[1.0,\"#FFA15A\"]],\"geo\":\"geo\",\"hovertemplate\":\"Value=0.883333333333333\\u003cbr\\u003eCountry or Area=%{location}\\u003cextra\\u003e\\u003c\\u002fextra\\u003e\",\"locationmode\":\"country names\",\"locations\":[\"Norv\\u00e8ge\"],\"name\":\"0.883333333333333\",\"showlegend\":true,\"showscale\":false,\"z\":[1],\"type\":\"choropleth\"},{\"colorscale\":[[0.0,\"#19d3f3\"],[1.0,\"#19d3f3\"]],\"geo\":\"geo\",\"hovertemplate\":\"Value=2.39416666666667\\u003cbr\\u003eCountry or Area=%{location}\\u003cextra\\u003e\\u003c\\u002fextra\\u003e\",\"locationmode\":\"country names\",\"locations\":[\"Norv\\u00e8ge\"],\"name\":\"2.39416666666667\",\"showlegend\":true,\"showscale\":false,\"z\":[1],\"type\":\"choropleth\"},{\"colorscale\":[[0.0,\"#FF6692\"],[1.0,\"#FF6692\"]],\"geo\":\"geo\",\"hovertemplate\":\"Value=4.55083333333333\\u003cbr\\u003eCountry or Area=%{location}\\u003cextra\\u003e\\u003c\\u002fextra\\u003e\",\"locationmode\":\"country names\",\"locations\":[\"Roumanie\"],\"name\":\"4.55083333333333\",\"showlegend\":true,\"showscale\":false,\"z\":[1],\"type\":\"choropleth\"},{\"colorscale\":[[0.0,\"#B6E880\"],[1.0,\"#B6E880\"]],\"geo\":\"geo\",\"hovertemplate\":\"Value=3.02\\u003cbr\\u003eCountry or Area=%{location}\\u003cextra\\u003e\\u003c\\u002fextra\\u003e\",\"locationmode\":\"country names\",\"locations\":[\"Roumanie\"],\"name\":\"3.02\",\"showlegend\":true,\"showscale\":false,\"z\":[1],\"type\":\"choropleth\"},{\"colorscale\":[[0.0,\"#FF97FF\"],[1.0,\"#FF97FF\"]],\"geo\":\"geo\",\"hovertemplate\":\"Value=1.88833333333333\\u003cbr\\u003eCountry or Area=%{location}\\u003cextra\\u003e\\u003c\\u002fextra\\u003e\",\"locationmode\":\"country names\",\"locations\":[\"Roumanie\"],\"name\":\"1.88833333333333\",\"showlegend\":true,\"showscale\":false,\"z\":[1],\"type\":\"choropleth\"},{\"colorscale\":[[0.0,\"#FECB52\"],[1.0,\"#FECB52\"]],\"geo\":\"geo\",\"hovertemplate\":\"Value=1.11333333333333\\u003cbr\\u003eCountry or Area=%{location}\\u003cextra\\u003e\\u003c\\u002fextra\\u003e\",\"locationmode\":\"country names\",\"locations\":[\"Roumanie\"],\"name\":\"1.11333333333333\",\"showlegend\":true,\"showscale\":false,\"z\":[1],\"type\":\"choropleth\"},{\"colorscale\":[[0.0,\"#636efa\"],[1.0,\"#636efa\"]],\"geo\":\"geo\",\"hovertemplate\":\"Value=0.887671328915552\\u003cbr\\u003eCountry or Area=%{location}\\u003cextra\\u003e\\u003c\\u002fextra\\u003e\",\"locationmode\":\"country names\",\"locations\":[\"Roumanie\"],\"name\":\"0.887671328915552\",\"showlegend\":true,\"showscale\":false,\"z\":[1],\"type\":\"choropleth\"},{\"colorscale\":[[0.0,\"#EF553B\"],[1.0,\"#EF553B\"]],\"geo\":\"geo\",\"hovertemplate\":\"Value=1.30452595555615\\u003cbr\\u003eCountry or Area=%{location}\\u003cextra\\u003e\\u003c\\u002fextra\\u003e\",\"locationmode\":\"country names\",\"locations\":[\"Roumanie\"],\"name\":\"1.30452595555615\",\"showlegend\":true,\"showscale\":false,\"z\":[1],\"type\":\"choropleth\"},{\"colorscale\":[[0.0,\"#00cc96\"],[1.0,\"#00cc96\"]],\"geo\":\"geo\",\"hovertemplate\":\"Value=1.78583333333333\\u003cbr\\u003eCountry or Area=%{location}\\u003cextra\\u003e\\u003c\\u002fextra\\u003e\",\"locationmode\":\"country names\",\"locations\":[\"Roumanie\"],\"name\":\"1.78583333333333\",\"showlegend\":true,\"showscale\":false,\"z\":[1],\"type\":\"choropleth\"},{\"colorscale\":[[0.0,\"#ab63fa\"],[1.0,\"#ab63fa\"]],\"geo\":\"geo\",\"hovertemplate\":\"Value=1.92807082499468\\u003cbr\\u003eCountry or Area=%{location}\\u003cextra\\u003e\\u003c\\u002fextra\\u003e\",\"locationmode\":\"country names\",\"locations\":[\"Roumanie\"],\"name\":\"1.92807082499468\",\"showlegend\":true,\"showscale\":false,\"z\":[1],\"type\":\"choropleth\"},{\"colorscale\":[[0.0,\"#FFA15A\"],[1.0,\"#FFA15A\"]],\"geo\":\"geo\",\"hovertemplate\":\"Value=1.58014108714551\\u003cbr\\u003eCountry or Area=%{location}\\u003cextra\\u003e\\u003c\\u002fextra\\u003e\",\"locationmode\":\"country names\",\"locations\":[\"Roumanie\"],\"name\":\"1.58014108714551\",\"showlegend\":true,\"showscale\":false,\"z\":[1],\"type\":\"choropleth\"},{\"colorscale\":[[0.0,\"#19d3f3\"],[1.0,\"#19d3f3\"]],\"geo\":\"geo\",\"hovertemplate\":\"Value=4.18555929126681\\u003cbr\\u003eCountry or Area=%{location}\\u003cextra\\u003e\\u003c\\u002fextra\\u003e\",\"locationmode\":\"country names\",\"locations\":[\"Roumanie\"],\"name\":\"4.18555929126681\",\"showlegend\":true,\"showscale\":false,\"z\":[1],\"type\":\"choropleth\"},{\"colorscale\":[[0.0,\"#FF6692\"],[1.0,\"#FF6692\"]],\"geo\":\"geo\",\"hovertemplate\":\"Value=6.43671749602951\\u003cbr\\u003eCountry or Area=%{location}\\u003cextra\\u003e\\u003c\\u002fextra\\u003e\",\"locationmode\":\"country names\",\"locations\":[\"Roumanie\"],\"name\":\"6.43671749602951\",\"showlegend\":true,\"showscale\":false,\"z\":[1],\"type\":\"choropleth\"},{\"colorscale\":[[0.0,\"#B6E880\"],[1.0,\"#B6E880\"]],\"geo\":\"geo\",\"hovertemplate\":\"Value=1.0725\\u003cbr\\u003eCountry or Area=%{location}\\u003cextra\\u003e\\u003c\\u002fextra\\u003e\",\"locationmode\":\"country names\",\"locations\":[\"Saint-Marin\"],\"name\":\"1.0725\",\"showlegend\":true,\"showscale\":false,\"z\":[1],\"type\":\"choropleth\"},{\"colorscale\":[[0.0,\"#FF97FF\"],[1.0,\"#FF97FF\"]],\"geo\":\"geo\",\"hovertemplate\":\"Value=1.32392776221434\\u003cbr\\u003eCountry or Area=%{location}\\u003cextra\\u003e\\u003c\\u002fextra\\u003e\",\"locationmode\":\"country names\",\"locations\":[\"Saint-Marin\"],\"name\":\"1.32392776221434\",\"showlegend\":true,\"showscale\":false,\"z\":[1],\"type\":\"choropleth\"},{\"colorscale\":[[0.0,\"#FECB52\"],[1.0,\"#FECB52\"]],\"geo\":\"geo\",\"hovertemplate\":\"Value=2.43401408036851\\u003cbr\\u003eCountry or Area=%{location}\\u003cextra\\u003e\\u003c\\u002fextra\\u003e\",\"locationmode\":\"country names\",\"locations\":[\"Saint-Marin\"],\"name\":\"2.43401408036851\",\"showlegend\":true,\"showscale\":false,\"z\":[1],\"type\":\"choropleth\"},{\"colorscale\":[[0.0,\"#636efa\"],[1.0,\"#636efa\"]],\"geo\":\"geo\",\"hovertemplate\":\"Value=1.88483333333333\\u003cbr\\u003eCountry or Area=%{location}\\u003cextra\\u003e\\u003c\\u002fextra\\u003e\",\"locationmode\":\"country names\",\"locations\":[\"Saint-Marin\"],\"name\":\"1.88483333333333\",\"showlegend\":true,\"showscale\":false,\"z\":[1],\"type\":\"choropleth\"},{\"colorscale\":[[0.0,\"#EF553B\"],[1.0,\"#EF553B\"]],\"geo\":\"geo\",\"hovertemplate\":\"Value=1.06528333333333\\u003cbr\\u003eCountry or Area=%{location}\\u003cextra\\u003e\\u003c\\u002fextra\\u003e\",\"locationmode\":\"country names\",\"locations\":[\"Saint-Marin\"],\"name\":\"1.06528333333333\",\"showlegend\":true,\"showscale\":false,\"z\":[1],\"type\":\"choropleth\"},{\"colorscale\":[[0.0,\"#00cc96\"],[1.0,\"#00cc96\"]],\"geo\":\"geo\",\"hovertemplate\":\"Value=1.166425\\u003cbr\\u003eCountry or Area=%{location}\\u003cextra\\u003e\\u003c\\u002fextra\\u003e\",\"locationmode\":\"country names\",\"locations\":[\"Saint-Marin\"],\"name\":\"1.166425\",\"showlegend\":true,\"showscale\":false,\"z\":[1],\"type\":\"choropleth\"},{\"colorscale\":[[0.0,\"#ab63fa\"],[1.0,\"#ab63fa\"]],\"geo\":\"geo\",\"hovertemplate\":\"Value=1.01408333333333\\u003cbr\\u003eCountry or Area=%{location}\\u003cextra\\u003e\\u003c\\u002fextra\\u003e\",\"locationmode\":\"country names\",\"locations\":[\"Saint-Marin\"],\"name\":\"1.01408333333333\",\"showlegend\":true,\"showscale\":false,\"z\":[1],\"type\":\"choropleth\"},{\"colorscale\":[[0.0,\"#FFA15A\"],[1.0,\"#FFA15A\"]],\"geo\":\"geo\",\"hovertemplate\":\"Value=0.772883333333333\\u003cbr\\u003eCountry or Area=%{location}\\u003cextra\\u003e\\u003c\\u002fextra\\u003e\",\"locationmode\":\"country names\",\"locations\":[\"Saint-Marin\"],\"name\":\"0.772883333333333\",\"showlegend\":true,\"showscale\":false,\"z\":[1],\"type\":\"choropleth\"},{\"colorscale\":[[0.0,\"#19d3f3\"],[1.0,\"#19d3f3\"]],\"geo\":\"geo\",\"hovertemplate\":\"Value=0.61195\\u003cbr\\u003eCountry or Area=%{location}\\u003cextra\\u003e\\u003c\\u002fextra\\u003e\",\"locationmode\":\"country names\",\"locations\":[\"Saint-Marin\"],\"name\":\"0.61195\",\"showlegend\":true,\"showscale\":false,\"z\":[1],\"type\":\"choropleth\"},{\"colorscale\":[[0.0,\"#FF6692\"],[1.0,\"#FF6692\"]],\"geo\":\"geo\",\"hovertemplate\":\"Value=0.6216\\u003cbr\\u003eCountry or Area=%{location}\\u003cextra\\u003e\\u003c\\u002fextra\\u003e\",\"locationmode\":\"country names\",\"locations\":[\"Saint-Marin\"],\"name\":\"0.6216\",\"showlegend\":true,\"showscale\":false,\"z\":[1],\"type\":\"choropleth\"},{\"colorscale\":[[0.0,\"#B6E880\"],[1.0,\"#B6E880\"]],\"geo\":\"geo\",\"hovertemplate\":\"Value=2.00113333333333\\u003cbr\\u003eCountry or Area=%{location}\\u003cextra\\u003e\\u003c\\u002fextra\\u003e\",\"locationmode\":\"country names\",\"locations\":[\"Saint-Marin\"],\"name\":\"2.00113333333333\",\"showlegend\":true,\"showscale\":false,\"z\":[1],\"type\":\"choropleth\"},{\"colorscale\":[[0.0,\"#FF97FF\"],[1.0,\"#FF97FF\"]],\"geo\":\"geo\",\"hovertemplate\":\"Value=10.77735\\u003cbr\\u003eCountry or Area=%{location}\\u003cextra\\u003e\\u003c\\u002fextra\\u003e\",\"locationmode\":\"country names\",\"locations\":[\"Ukraine\"],\"name\":\"10.77735\",\"showlegend\":true,\"showscale\":false,\"z\":[1],\"type\":\"choropleth\"},{\"colorscale\":[[0.0,\"#FECB52\"],[1.0,\"#FECB52\"]],\"geo\":\"geo\",\"hovertemplate\":\"Value=12.10025\\u003cbr\\u003eCountry or Area=%{location}\\u003cextra\\u003e\\u003c\\u002fextra\\u003e\",\"locationmode\":\"country names\",\"locations\":[\"Ukraine\"],\"name\":\"12.10025\",\"showlegend\":true,\"showscale\":false,\"z\":[1],\"type\":\"choropleth\"},{\"colorscale\":[[0.0,\"#636efa\"],[1.0,\"#636efa\"]],\"geo\":\"geo\",\"hovertemplate\":\"Value=13.0104833333333\\u003cbr\\u003eCountry or Area=%{location}\\u003cextra\\u003e\\u003c\\u002fextra\\u003e\",\"locationmode\":\"country names\",\"locations\":[\"Ukraine\"],\"name\":\"13.0104833333333\",\"showlegend\":true,\"showscale\":false,\"z\":[1],\"type\":\"choropleth\"},{\"colorscale\":[[0.0,\"#EF553B\"],[1.0,\"#EF553B\"]],\"geo\":\"geo\",\"hovertemplate\":\"Value=11.4857583333333\\u003cbr\\u003eCountry or Area=%{location}\\u003cextra\\u003e\\u003c\\u002fextra\\u003e\",\"locationmode\":\"country names\",\"locations\":[\"Ukraine\"],\"name\":\"11.4857583333333\",\"showlegend\":true,\"showscale\":false,\"z\":[1],\"type\":\"choropleth\"},{\"colorscale\":[[0.0,\"#00cc96\"],[1.0,\"#00cc96\"]],\"geo\":\"geo\",\"hovertemplate\":\"Value=9.12695833333333\\u003cbr\\u003eCountry or Area=%{location}\\u003cextra\\u003e\\u003c\\u002fextra\\u003e\",\"locationmode\":\"country names\",\"locations\":[\"Ukraine\"],\"name\":\"9.12695833333333\",\"showlegend\":true,\"showscale\":false,\"z\":[1],\"type\":\"choropleth\"},{\"colorscale\":[[0.0,\"#ab63fa\"],[1.0,\"#ab63fa\"]],\"geo\":\"geo\",\"hovertemplate\":\"Value=11.7777583333333\\u003cbr\\u003eCountry or Area=%{location}\\u003cextra\\u003e\\u003c\\u002fextra\\u003e\",\"locationmode\":\"country names\",\"locations\":[\"Ukraine\"],\"name\":\"11.7777583333333\",\"showlegend\":true,\"showscale\":false,\"z\":[1],\"type\":\"choropleth\"},{\"colorscale\":[[0.0,\"#FFA15A\"],[1.0,\"#FFA15A\"]],\"geo\":\"geo\",\"hovertemplate\":\"Value=12.8923166666667\\u003cbr\\u003eCountry or Area=%{location}\\u003cextra\\u003e\\u003c\\u002fextra\\u003e\",\"locationmode\":\"country names\",\"locations\":[\"Ukraine\"],\"name\":\"12.8923166666667\",\"showlegend\":true,\"showscale\":false,\"z\":[1],\"type\":\"choropleth\"},{\"colorscale\":[[0.0,\"#19d3f3\"],[1.0,\"#19d3f3\"]],\"geo\":\"geo\",\"hovertemplate\":\"Value=6.08589166666667\\u003cbr\\u003eCountry or Area=%{location}\\u003cextra\\u003e\\u003c\\u002fextra\\u003e\",\"locationmode\":\"country names\",\"locations\":[\"Ukraine\"],\"name\":\"6.08589166666667\",\"showlegend\":true,\"showscale\":false,\"z\":[1],\"type\":\"choropleth\"},{\"colorscale\":[[0.0,\"#FF6692\"],[1.0,\"#FF6692\"]],\"geo\":\"geo\",\"hovertemplate\":\"Value=4.63494166666667\\u003cbr\\u003eCountry or Area=%{location}\\u003cextra\\u003e\\u003c\\u002fextra\\u003e\",\"locationmode\":\"country names\",\"locations\":[\"Ukraine\"],\"name\":\"4.63494166666667\",\"showlegend\":true,\"showscale\":false,\"z\":[1],\"type\":\"choropleth\"},{\"colorscale\":[[0.0,\"#B6E880\"],[1.0,\"#B6E880\"]],\"geo\":\"geo\",\"hovertemplate\":\"Value=7.415675\\u003cbr\\u003eCountry or Area=%{location}\\u003cextra\\u003e\\u003c\\u002fextra\\u003e\",\"locationmode\":\"country names\",\"locations\":[\"Ukraine\"],\"name\":\"7.415675\",\"showlegend\":true,\"showscale\":false,\"z\":[1],\"type\":\"choropleth\"},{\"colorscale\":[[0.0,\"#FF97FF\"],[1.0,\"#FF97FF\"]],\"geo\":\"geo\",\"hovertemplate\":\"Value=12.3407083333333\\u003cbr\\u003eCountry or Area=%{location}\\u003cextra\\u003e\\u003c\\u002fextra\\u003e\",\"locationmode\":\"country names\",\"locations\":[\"Ukraine\"],\"name\":\"12.3407083333333\",\"showlegend\":true,\"showscale\":false,\"z\":[1],\"type\":\"choropleth\"},{\"colorscale\":[[0.0,\"#FECB52\"],[1.0,\"#FECB52\"]],\"geo\":\"geo\",\"hovertemplate\":\"Value=3.42166666666667\\u003cbr\\u003eCountry or Area=%{location}\\u003cextra\\u003e\\u003c\\u002fextra\\u003e\",\"locationmode\":\"country names\",\"locations\":[\"Kosovo\"],\"name\":\"3.42166666666667\",\"showlegend\":true,\"showscale\":false,\"z\":[1],\"type\":\"choropleth\"},{\"colorscale\":[[0.0,\"#636efa\"],[1.0,\"#636efa\"]],\"geo\":\"geo\",\"hovertemplate\":\"Value=1.11166666666667\\u003cbr\\u003eCountry or Area=%{location}\\u003cextra\\u003e\\u003c\\u002fextra\\u003e\",\"locationmode\":\"country names\",\"locations\":[\"Kosovo\"],\"name\":\"1.11166666666667\",\"showlegend\":true,\"showscale\":false,\"z\":[1],\"type\":\"choropleth\"},{\"colorscale\":[[0.0,\"#EF553B\"],[1.0,\"#EF553B\"]],\"geo\":\"geo\",\"hovertemplate\":\"Value=0.904166666666667\\u003cbr\\u003eCountry or Area=%{location}\\u003cextra\\u003e\\u003c\\u002fextra\\u003e\",\"locationmode\":\"country names\",\"locations\":[\"Kosovo\"],\"name\":\"0.904166666666667\",\"showlegend\":true,\"showscale\":false,\"z\":[1],\"type\":\"choropleth\"},{\"colorscale\":[[0.0,\"#00cc96\"],[1.0,\"#00cc96\"]],\"geo\":\"geo\",\"hovertemplate\":\"Value=1.00905833333333\\u003cbr\\u003eCountry or Area=%{location}\\u003cextra\\u003e\\u003c\\u002fextra\\u003e\",\"locationmode\":\"country names\",\"locations\":[\"Kosovo\"],\"name\":\"1.00905833333333\",\"showlegend\":true,\"showscale\":false,\"z\":[1],\"type\":\"choropleth\"},{\"colorscale\":[[0.0,\"#ab63fa\"],[1.0,\"#ab63fa\"]],\"geo\":\"geo\",\"hovertemplate\":\"Value=1.035125\\u003cbr\\u003eCountry or Area=%{location}\\u003cextra\\u003e\\u003c\\u002fextra\\u003e\",\"locationmode\":\"country names\",\"locations\":[\"Kosovo\"],\"name\":\"1.035125\",\"showlegend\":true,\"showscale\":false,\"z\":[1],\"type\":\"choropleth\"},{\"colorscale\":[[0.0,\"#FFA15A\"],[1.0,\"#FFA15A\"]],\"geo\":\"geo\",\"hovertemplate\":\"Value=1.30986666666667\\u003cbr\\u003eCountry or Area=%{location}\\u003cextra\\u003e\\u003c\\u002fextra\\u003e\",\"locationmode\":\"country names\",\"locations\":[\"Kosovo\"],\"name\":\"1.30986666666667\",\"showlegend\":true,\"showscale\":false,\"z\":[1],\"type\":\"choropleth\"}],                        {\"template\":{\"data\":{\"histogram2dcontour\":[{\"type\":\"histogram2dcontour\",\"colorbar\":{\"outlinewidth\":0,\"ticks\":\"\"},\"colorscale\":[[0.0,\"#0d0887\"],[0.1111111111111111,\"#46039f\"],[0.2222222222222222,\"#7201a8\"],[0.3333333333333333,\"#9c179e\"],[0.4444444444444444,\"#bd3786\"],[0.5555555555555556,\"#d8576b\"],[0.6666666666666666,\"#ed7953\"],[0.7777777777777778,\"#fb9f3a\"],[0.8888888888888888,\"#fdca26\"],[1.0,\"#f0f921\"]]}],\"choropleth\":[{\"type\":\"choropleth\",\"colorbar\":{\"outlinewidth\":0,\"ticks\":\"\"}}],\"histogram2d\":[{\"type\":\"histogram2d\",\"colorbar\":{\"outlinewidth\":0,\"ticks\":\"\"},\"colorscale\":[[0.0,\"#0d0887\"],[0.1111111111111111,\"#46039f\"],[0.2222222222222222,\"#7201a8\"],[0.3333333333333333,\"#9c179e\"],[0.4444444444444444,\"#bd3786\"],[0.5555555555555556,\"#d8576b\"],[0.6666666666666666,\"#ed7953\"],[0.7777777777777778,\"#fb9f3a\"],[0.8888888888888888,\"#fdca26\"],[1.0,\"#f0f921\"]]}],\"heatmap\":[{\"type\":\"heatmap\",\"colorbar\":{\"outlinewidth\":0,\"ticks\":\"\"},\"colorscale\":[[0.0,\"#0d0887\"],[0.1111111111111111,\"#46039f\"],[0.2222222222222222,\"#7201a8\"],[0.3333333333333333,\"#9c179e\"],[0.4444444444444444,\"#bd3786\"],[0.5555555555555556,\"#d8576b\"],[0.6666666666666666,\"#ed7953\"],[0.7777777777777778,\"#fb9f3a\"],[0.8888888888888888,\"#fdca26\"],[1.0,\"#f0f921\"]]}],\"heatmapgl\":[{\"type\":\"heatmapgl\",\"colorbar\":{\"outlinewidth\":0,\"ticks\":\"\"},\"colorscale\":[[0.0,\"#0d0887\"],[0.1111111111111111,\"#46039f\"],[0.2222222222222222,\"#7201a8\"],[0.3333333333333333,\"#9c179e\"],[0.4444444444444444,\"#bd3786\"],[0.5555555555555556,\"#d8576b\"],[0.6666666666666666,\"#ed7953\"],[0.7777777777777778,\"#fb9f3a\"],[0.8888888888888888,\"#fdca26\"],[1.0,\"#f0f921\"]]}],\"contourcarpet\":[{\"type\":\"contourcarpet\",\"colorbar\":{\"outlinewidth\":0,\"ticks\":\"\"}}],\"contour\":[{\"type\":\"contour\",\"colorbar\":{\"outlinewidth\":0,\"ticks\":\"\"},\"colorscale\":[[0.0,\"#0d0887\"],[0.1111111111111111,\"#46039f\"],[0.2222222222222222,\"#7201a8\"],[0.3333333333333333,\"#9c179e\"],[0.4444444444444444,\"#bd3786\"],[0.5555555555555556,\"#d8576b\"],[0.6666666666666666,\"#ed7953\"],[0.7777777777777778,\"#fb9f3a\"],[0.8888888888888888,\"#fdca26\"],[1.0,\"#f0f921\"]]}],\"surface\":[{\"type\":\"surface\",\"colorbar\":{\"outlinewidth\":0,\"ticks\":\"\"},\"colorscale\":[[0.0,\"#0d0887\"],[0.1111111111111111,\"#46039f\"],[0.2222222222222222,\"#7201a8\"],[0.3333333333333333,\"#9c179e\"],[0.4444444444444444,\"#bd3786\"],[0.5555555555555556,\"#d8576b\"],[0.6666666666666666,\"#ed7953\"],[0.7777777777777778,\"#fb9f3a\"],[0.8888888888888888,\"#fdca26\"],[1.0,\"#f0f921\"]]}],\"mesh3d\":[{\"type\":\"mesh3d\",\"colorbar\":{\"outlinewidth\":0,\"ticks\":\"\"}}],\"scatter\":[{\"fillpattern\":{\"fillmode\":\"overlay\",\"size\":10,\"solidity\":0.2},\"type\":\"scatter\"}],\"parcoords\":[{\"type\":\"parcoords\",\"line\":{\"colorbar\":{\"outlinewidth\":0,\"ticks\":\"\"}}}],\"scatterpolargl\":[{\"type\":\"scatterpolargl\",\"marker\":{\"colorbar\":{\"outlinewidth\":0,\"ticks\":\"\"}}}],\"bar\":[{\"error_x\":{\"color\":\"#2a3f5f\"},\"error_y\":{\"color\":\"#2a3f5f\"},\"marker\":{\"line\":{\"color\":\"#E5ECF6\",\"width\":0.5},\"pattern\":{\"fillmode\":\"overlay\",\"size\":10,\"solidity\":0.2}},\"type\":\"bar\"}],\"scattergeo\":[{\"type\":\"scattergeo\",\"marker\":{\"colorbar\":{\"outlinewidth\":0,\"ticks\":\"\"}}}],\"scatterpolar\":[{\"type\":\"scatterpolar\",\"marker\":{\"colorbar\":{\"outlinewidth\":0,\"ticks\":\"\"}}}],\"histogram\":[{\"marker\":{\"pattern\":{\"fillmode\":\"overlay\",\"size\":10,\"solidity\":0.2}},\"type\":\"histogram\"}],\"scattergl\":[{\"type\":\"scattergl\",\"marker\":{\"colorbar\":{\"outlinewidth\":0,\"ticks\":\"\"}}}],\"scatter3d\":[{\"type\":\"scatter3d\",\"line\":{\"colorbar\":{\"outlinewidth\":0,\"ticks\":\"\"}},\"marker\":{\"colorbar\":{\"outlinewidth\":0,\"ticks\":\"\"}}}],\"scattermapbox\":[{\"type\":\"scattermapbox\",\"marker\":{\"colorbar\":{\"outlinewidth\":0,\"ticks\":\"\"}}}],\"scatterternary\":[{\"type\":\"scatterternary\",\"marker\":{\"colorbar\":{\"outlinewidth\":0,\"ticks\":\"\"}}}],\"scattercarpet\":[{\"type\":\"scattercarpet\",\"marker\":{\"colorbar\":{\"outlinewidth\":0,\"ticks\":\"\"}}}],\"carpet\":[{\"aaxis\":{\"endlinecolor\":\"#2a3f5f\",\"gridcolor\":\"white\",\"linecolor\":\"white\",\"minorgridcolor\":\"white\",\"startlinecolor\":\"#2a3f5f\"},\"baxis\":{\"endlinecolor\":\"#2a3f5f\",\"gridcolor\":\"white\",\"linecolor\":\"white\",\"minorgridcolor\":\"white\",\"startlinecolor\":\"#2a3f5f\"},\"type\":\"carpet\"}],\"table\":[{\"cells\":{\"fill\":{\"color\":\"#EBF0F8\"},\"line\":{\"color\":\"white\"}},\"header\":{\"fill\":{\"color\":\"#C8D4E3\"},\"line\":{\"color\":\"white\"}},\"type\":\"table\"}],\"barpolar\":[{\"marker\":{\"line\":{\"color\":\"#E5ECF6\",\"width\":0.5},\"pattern\":{\"fillmode\":\"overlay\",\"size\":10,\"solidity\":0.2}},\"type\":\"barpolar\"}],\"pie\":[{\"automargin\":true,\"type\":\"pie\"}]},\"layout\":{\"autotypenumbers\":\"strict\",\"colorway\":[\"#636efa\",\"#EF553B\",\"#00cc96\",\"#ab63fa\",\"#FFA15A\",\"#19d3f3\",\"#FF6692\",\"#B6E880\",\"#FF97FF\",\"#FECB52\"],\"font\":{\"color\":\"#2a3f5f\"},\"hovermode\":\"closest\",\"hoverlabel\":{\"align\":\"left\"},\"paper_bgcolor\":\"white\",\"plot_bgcolor\":\"#E5ECF6\",\"polar\":{\"bgcolor\":\"#E5ECF6\",\"angularaxis\":{\"gridcolor\":\"white\",\"linecolor\":\"white\",\"ticks\":\"\"},\"radialaxis\":{\"gridcolor\":\"white\",\"linecolor\":\"white\",\"ticks\":\"\"}},\"ternary\":{\"bgcolor\":\"#E5ECF6\",\"aaxis\":{\"gridcolor\":\"white\",\"linecolor\":\"white\",\"ticks\":\"\"},\"baxis\":{\"gridcolor\":\"white\",\"linecolor\":\"white\",\"ticks\":\"\"},\"caxis\":{\"gridcolor\":\"white\",\"linecolor\":\"white\",\"ticks\":\"\"}},\"coloraxis\":{\"colorbar\":{\"outlinewidth\":0,\"ticks\":\"\"}},\"colorscale\":{\"sequential\":[[0.0,\"#0d0887\"],[0.1111111111111111,\"#46039f\"],[0.2222222222222222,\"#7201a8\"],[0.3333333333333333,\"#9c179e\"],[0.4444444444444444,\"#bd3786\"],[0.5555555555555556,\"#d8576b\"],[0.6666666666666666,\"#ed7953\"],[0.7777777777777778,\"#fb9f3a\"],[0.8888888888888888,\"#fdca26\"],[1.0,\"#f0f921\"]],\"sequentialminus\":[[0.0,\"#0d0887\"],[0.1111111111111111,\"#46039f\"],[0.2222222222222222,\"#7201a8\"],[0.3333333333333333,\"#9c179e\"],[0.4444444444444444,\"#bd3786\"],[0.5555555555555556,\"#d8576b\"],[0.6666666666666666,\"#ed7953\"],[0.7777777777777778,\"#fb9f3a\"],[0.8888888888888888,\"#fdca26\"],[1.0,\"#f0f921\"]],\"diverging\":[[0,\"#8e0152\"],[0.1,\"#c51b7d\"],[0.2,\"#de77ae\"],[0.3,\"#f1b6da\"],[0.4,\"#fde0ef\"],[0.5,\"#f7f7f7\"],[0.6,\"#e6f5d0\"],[0.7,\"#b8e186\"],[0.8,\"#7fbc41\"],[0.9,\"#4d9221\"],[1,\"#276419\"]]},\"xaxis\":{\"gridcolor\":\"white\",\"linecolor\":\"white\",\"ticks\":\"\",\"title\":{\"standoff\":15},\"zerolinecolor\":\"white\",\"automargin\":true,\"zerolinewidth\":2},\"yaxis\":{\"gridcolor\":\"white\",\"linecolor\":\"white\",\"ticks\":\"\",\"title\":{\"standoff\":15},\"zerolinecolor\":\"white\",\"automargin\":true,\"zerolinewidth\":2},\"scene\":{\"xaxis\":{\"backgroundcolor\":\"#E5ECF6\",\"gridcolor\":\"white\",\"linecolor\":\"white\",\"showbackground\":true,\"ticks\":\"\",\"zerolinecolor\":\"white\",\"gridwidth\":2},\"yaxis\":{\"backgroundcolor\":\"#E5ECF6\",\"gridcolor\":\"white\",\"linecolor\":\"white\",\"showbackground\":true,\"ticks\":\"\",\"zerolinecolor\":\"white\",\"gridwidth\":2},\"zaxis\":{\"backgroundcolor\":\"#E5ECF6\",\"gridcolor\":\"white\",\"linecolor\":\"white\",\"showbackground\":true,\"ticks\":\"\",\"zerolinecolor\":\"white\",\"gridwidth\":2}},\"shapedefaults\":{\"line\":{\"color\":\"#2a3f5f\"}},\"annotationdefaults\":{\"arrowcolor\":\"#2a3f5f\",\"arrowhead\":0,\"arrowwidth\":1},\"geo\":{\"bgcolor\":\"white\",\"landcolor\":\"#E5ECF6\",\"subunitcolor\":\"white\",\"showland\":true,\"showlakes\":true,\"lakecolor\":\"white\"},\"title\":{\"x\":0.05},\"mapbox\":{\"style\":\"light\"}}},\"geo\":{\"domain\":{\"x\":[0.0,1.0],\"y\":[0.0,1.0]},\"center\":{}},\"legend\":{\"title\":{\"text\":\"Value\"},\"tracegroupgap\":0},\"title\":{\"text\":\"Donn\\u00e9es par pays\"}},                        {\"responsive\": true}                    ).then(function(){\n",
       "                            \n",
       "var gd = document.getElementById('296b12cd-9464-4ae8-854c-ce022baa7929');\n",
       "var x = new MutationObserver(function (mutations, observer) {{\n",
       "        var display = window.getComputedStyle(gd).display;\n",
       "        if (!display || display === 'none') {{\n",
       "            console.log([gd, 'removed!']);\n",
       "            Plotly.purge(gd);\n",
       "            observer.disconnect();\n",
       "        }}\n",
       "}});\n",
       "\n",
       "// Listen for the removal of the full notebook cells\n",
       "var notebookContainer = gd.closest('#notebook-container');\n",
       "if (notebookContainer) {{\n",
       "    x.observe(notebookContainer, {childList: true});\n",
       "}}\n",
       "\n",
       "// Listen for the clearing of the current output cell\n",
       "var outputEl = gd.closest('.output');\n",
       "if (outputEl) {{\n",
       "    x.observe(outputEl, {childList: true});\n",
       "}}\n",
       "\n",
       "                        })                };                });            </script>        </div>"
      ]
     },
     "metadata": {},
     "output_type": "display_data"
    }
   ],
   "source": [
    "import plotly.express as px\n",
    "\n",
    "\n",
    "# Créer une carte interactive\n",
    "fig = px.choropleth(\n",
    "    df,\n",
    "    locations=\"Country or Area\",\n",
    "    locationmode=\"country names\",\n",
    "    color=\"Value\",\n",
    "    color_continuous_scale=\"Viridis\",\n",
    "    title=\"Données par pays\"\n",
    ")\n",
    "\n",
    "# Afficher la carte\n",
    "fig.show()"
   ]
  },
  {
   "cell_type": "code",
   "execution_count": null,
   "id": "023579e1-6cef-4f29-b7a7-6219976b7b7d",
   "metadata": {},
   "outputs": [],
   "source": []
  }
 ],
 "metadata": {
  "kernelspec": {
   "display_name": "Python 3 (ipykernel)",
   "language": "python",
   "name": "python3"
  },
  "language_info": {
   "codemirror_mode": {
    "name": "ipython",
    "version": 3
   },
   "file_extension": ".py",
   "mimetype": "text/x-python",
   "name": "python",
   "nbconvert_exporter": "python",
   "pygments_lexer": "ipython3",
   "version": "3.12.8"
  }
 },
 "nbformat": 4,
 "nbformat_minor": 5
}
